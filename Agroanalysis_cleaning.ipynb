{
  "cells": [
    {
      "cell_type": "markdown",
      "metadata": {
        "id": "view-in-github",
        "colab_type": "text"
      },
      "source": [
        "<a href=\"https://colab.research.google.com/github/bcb12/agroanalysis/blob/main/Agroanalysis_cleaning.ipynb\" target=\"_parent\"><img src=\"https://colab.research.google.com/assets/colab-badge.svg\" alt=\"Open In Colab\"/></a>"
      ]
    },
    {
      "cell_type": "markdown",
      "metadata": {
        "id": "gCgfZpKJRRwp"
      },
      "source": [
        "Anotaciones para futuras fases:\n",
        "\n",
        "*   Identificar elementos nulos\n",
        "*   Sustituir símbolos problemáticos (\",\" en lugar de \".\" como separador de decimales)\n",
        "*   Sustituir separador de elementos \"|\" por \";\"\n",
        "*   Eliminar los símbolos ;; del final de cada línea en el Dataset 1\n",
        "\n"
      ]
    },
    {
      "cell_type": "markdown",
      "metadata": {
        "id": "xljMcIid8fvX"
      },
      "source": [
        "Import de librerías externas"
      ]
    },
    {
      "cell_type": "code",
      "execution_count": null,
      "metadata": {
        "id": "UwZyQTjhFABM"
      },
      "outputs": [],
      "source": [
        "# Imports\n",
        "import pandas as pd\n",
        "import io\n",
        "import os\n",
        "import missingno as msno\n",
        "import datetime as dt\n",
        "from google.colab import drive"
      ]
    },
    {
      "cell_type": "markdown",
      "source": [
        "(LEGACY) Cargar archivo desde el equipo."
      ],
      "metadata": {
        "id": "KvmY371D9TdS"
      }
    },
    {
      "cell_type": "code",
      "execution_count": null,
      "metadata": {
        "colab": {
          "base_uri": "https://localhost:8080/",
          "height": 93
        },
        "id": "YTUVjRY_Oyog",
        "outputId": "7747635d-cb4b-433b-c87b-a9a78a8ea906"
      },
      "outputs": [
        {
          "output_type": "display_data",
          "data": {
            "text/plain": [
              "<IPython.core.display.HTML object>"
            ],
            "text/html": [
              "\n",
              "     <input type=\"file\" id=\"files-fd7d4838-30fa-4742-bdf6-158635f31d42\" name=\"files[]\" multiple disabled\n",
              "        style=\"border:none\" />\n",
              "     <output id=\"result-fd7d4838-30fa-4742-bdf6-158635f31d42\">\n",
              "      Upload widget is only available when the cell has been executed in the\n",
              "      current browser session. Please rerun this cell to enable.\n",
              "      </output>\n",
              "      <script>// Copyright 2017 Google LLC\n",
              "//\n",
              "// Licensed under the Apache License, Version 2.0 (the \"License\");\n",
              "// you may not use this file except in compliance with the License.\n",
              "// You may obtain a copy of the License at\n",
              "//\n",
              "//      http://www.apache.org/licenses/LICENSE-2.0\n",
              "//\n",
              "// Unless required by applicable law or agreed to in writing, software\n",
              "// distributed under the License is distributed on an \"AS IS\" BASIS,\n",
              "// WITHOUT WARRANTIES OR CONDITIONS OF ANY KIND, either express or implied.\n",
              "// See the License for the specific language governing permissions and\n",
              "// limitations under the License.\n",
              "\n",
              "/**\n",
              " * @fileoverview Helpers for google.colab Python module.\n",
              " */\n",
              "(function(scope) {\n",
              "function span(text, styleAttributes = {}) {\n",
              "  const element = document.createElement('span');\n",
              "  element.textContent = text;\n",
              "  for (const key of Object.keys(styleAttributes)) {\n",
              "    element.style[key] = styleAttributes[key];\n",
              "  }\n",
              "  return element;\n",
              "}\n",
              "\n",
              "// Max number of bytes which will be uploaded at a time.\n",
              "const MAX_PAYLOAD_SIZE = 100 * 1024;\n",
              "\n",
              "function _uploadFiles(inputId, outputId) {\n",
              "  const steps = uploadFilesStep(inputId, outputId);\n",
              "  const outputElement = document.getElementById(outputId);\n",
              "  // Cache steps on the outputElement to make it available for the next call\n",
              "  // to uploadFilesContinue from Python.\n",
              "  outputElement.steps = steps;\n",
              "\n",
              "  return _uploadFilesContinue(outputId);\n",
              "}\n",
              "\n",
              "// This is roughly an async generator (not supported in the browser yet),\n",
              "// where there are multiple asynchronous steps and the Python side is going\n",
              "// to poll for completion of each step.\n",
              "// This uses a Promise to block the python side on completion of each step,\n",
              "// then passes the result of the previous step as the input to the next step.\n",
              "function _uploadFilesContinue(outputId) {\n",
              "  const outputElement = document.getElementById(outputId);\n",
              "  const steps = outputElement.steps;\n",
              "\n",
              "  const next = steps.next(outputElement.lastPromiseValue);\n",
              "  return Promise.resolve(next.value.promise).then((value) => {\n",
              "    // Cache the last promise value to make it available to the next\n",
              "    // step of the generator.\n",
              "    outputElement.lastPromiseValue = value;\n",
              "    return next.value.response;\n",
              "  });\n",
              "}\n",
              "\n",
              "/**\n",
              " * Generator function which is called between each async step of the upload\n",
              " * process.\n",
              " * @param {string} inputId Element ID of the input file picker element.\n",
              " * @param {string} outputId Element ID of the output display.\n",
              " * @return {!Iterable<!Object>} Iterable of next steps.\n",
              " */\n",
              "function* uploadFilesStep(inputId, outputId) {\n",
              "  const inputElement = document.getElementById(inputId);\n",
              "  inputElement.disabled = false;\n",
              "\n",
              "  const outputElement = document.getElementById(outputId);\n",
              "  outputElement.innerHTML = '';\n",
              "\n",
              "  const pickedPromise = new Promise((resolve) => {\n",
              "    inputElement.addEventListener('change', (e) => {\n",
              "      resolve(e.target.files);\n",
              "    });\n",
              "  });\n",
              "\n",
              "  const cancel = document.createElement('button');\n",
              "  inputElement.parentElement.appendChild(cancel);\n",
              "  cancel.textContent = 'Cancel upload';\n",
              "  const cancelPromise = new Promise((resolve) => {\n",
              "    cancel.onclick = () => {\n",
              "      resolve(null);\n",
              "    };\n",
              "  });\n",
              "\n",
              "  // Wait for the user to pick the files.\n",
              "  const files = yield {\n",
              "    promise: Promise.race([pickedPromise, cancelPromise]),\n",
              "    response: {\n",
              "      action: 'starting',\n",
              "    }\n",
              "  };\n",
              "\n",
              "  cancel.remove();\n",
              "\n",
              "  // Disable the input element since further picks are not allowed.\n",
              "  inputElement.disabled = true;\n",
              "\n",
              "  if (!files) {\n",
              "    return {\n",
              "      response: {\n",
              "        action: 'complete',\n",
              "      }\n",
              "    };\n",
              "  }\n",
              "\n",
              "  for (const file of files) {\n",
              "    const li = document.createElement('li');\n",
              "    li.append(span(file.name, {fontWeight: 'bold'}));\n",
              "    li.append(span(\n",
              "        `(${file.type || 'n/a'}) - ${file.size} bytes, ` +\n",
              "        `last modified: ${\n",
              "            file.lastModifiedDate ? file.lastModifiedDate.toLocaleDateString() :\n",
              "                                    'n/a'} - `));\n",
              "    const percent = span('0% done');\n",
              "    li.appendChild(percent);\n",
              "\n",
              "    outputElement.appendChild(li);\n",
              "\n",
              "    const fileDataPromise = new Promise((resolve) => {\n",
              "      const reader = new FileReader();\n",
              "      reader.onload = (e) => {\n",
              "        resolve(e.target.result);\n",
              "      };\n",
              "      reader.readAsArrayBuffer(file);\n",
              "    });\n",
              "    // Wait for the data to be ready.\n",
              "    let fileData = yield {\n",
              "      promise: fileDataPromise,\n",
              "      response: {\n",
              "        action: 'continue',\n",
              "      }\n",
              "    };\n",
              "\n",
              "    // Use a chunked sending to avoid message size limits. See b/62115660.\n",
              "    let position = 0;\n",
              "    do {\n",
              "      const length = Math.min(fileData.byteLength - position, MAX_PAYLOAD_SIZE);\n",
              "      const chunk = new Uint8Array(fileData, position, length);\n",
              "      position += length;\n",
              "\n",
              "      const base64 = btoa(String.fromCharCode.apply(null, chunk));\n",
              "      yield {\n",
              "        response: {\n",
              "          action: 'append',\n",
              "          file: file.name,\n",
              "          data: base64,\n",
              "        },\n",
              "      };\n",
              "\n",
              "      let percentDone = fileData.byteLength === 0 ?\n",
              "          100 :\n",
              "          Math.round((position / fileData.byteLength) * 100);\n",
              "      percent.textContent = `${percentDone}% done`;\n",
              "\n",
              "    } while (position < fileData.byteLength);\n",
              "  }\n",
              "\n",
              "  // All done.\n",
              "  yield {\n",
              "    response: {\n",
              "      action: 'complete',\n",
              "    }\n",
              "  };\n",
              "}\n",
              "\n",
              "scope.google = scope.google || {};\n",
              "scope.google.colab = scope.google.colab || {};\n",
              "scope.google.colab._files = {\n",
              "  _uploadFiles,\n",
              "  _uploadFilesContinue,\n",
              "};\n",
              "})(self);\n",
              "</script> "
            ]
          },
          "metadata": {}
        },
        {
          "output_type": "stream",
          "name": "stdout",
          "text": [
            "Saving Dataset1_Datos_Consumo_Alimentario_MAPA_por_CCAA_CONVERTED.txt to Dataset1_Datos_Consumo_Alimentario_MAPA_por_CCAA_CONVERTED.txt\n",
            "\"Dataset1_Datos_Consumo_Alimentario_MAPA_por_CCAA_CONVERTED.txt\" 1829234\n"
          ]
        }
      ],
      "source": [
        "from google.colab import files\n",
        "\n",
        "uploaded = files.upload()\n",
        "\n",
        "for fn in uploaded.keys():\n",
        "  print('\"{nombre}\" {longitud}'.format(nombre=fn, longitud=len(uploaded[fn])))"
      ]
    },
    {
      "cell_type": "markdown",
      "source": [
        "Montar directorio de Drive y cargar los datasets."
      ],
      "metadata": {
        "id": "5KD7-Z0C8k_T"
      }
    },
    {
      "cell_type": "code",
      "source": [
        "drive.mount('/content/drive')\n",
        "os.chdir('/content/drive/My Drive/Datasets/Converted Datasets')\n",
        "print(os.getcwd())\n",
        "\n",
        "dataset_1 = pd.read_csv(\"Dataset1_CONVERTED.txt\")\n",
        "dataset_3a = pd.read_csv(\"Dataset3a_CONVERTED.txt\", encoding='utf8')\n",
        "dataset_3b = pd.read_csv(\"Dataset3b_CONVERTED.txt\")\n",
        "dataset_4 = pd.read_csv(\"Dataset4_CONVERTED.txt\")\n",
        "dataset_5 = pd.read_csv(\"Dataset5_CONVERTED.txt\")\n",
        "#dataset_5 = pd.read_csv(\"/content/drive/MyDrive/Datasets/D5 Processing/D5.csv\")\n",
        "\n",
        "df_1 = pd.DataFrame(dataset_1)\n",
        "df_3a = pd.DataFrame(dataset_3a)\n",
        "df_3b = pd.DataFrame(dataset_3b)\n",
        "df_4 = pd.DataFrame(dataset_4)\n",
        "df_5 = pd.DataFrame(dataset_5)"
      ],
      "metadata": {
        "colab": {
          "base_uri": "https://localhost:8080/"
        },
        "id": "lXq1Th8JybKj",
        "outputId": "aede9461-c6da-4ccc-f719-68c2c72f6e11"
      },
      "execution_count": null,
      "outputs": [
        {
          "output_type": "stream",
          "name": "stdout",
          "text": [
            "Drive already mounted at /content/drive; to attempt to forcibly remount, call drive.mount(\"/content/drive\", force_remount=True).\n",
            "/content/drive/My Drive/Datasets/Converted Datasets\n"
          ]
        }
      ]
    },
    {
      "cell_type": "markdown",
      "source": [
        "### Diccionario de nombres de productos"
      ],
      "metadata": {
        "id": "g76tWVEUBD0p"
      }
    },
    {
      "cell_type": "code",
      "source": [
        "from google.colab import drive\n",
        "drive.mount('/content/drive')"
      ],
      "metadata": {
        "id": "SRjvOd430KNm",
        "colab": {
          "base_uri": "https://localhost:8080/"
        },
        "outputId": "e88a3324-49d7-4792-b112-d335ca9034b6"
      },
      "execution_count": null,
      "outputs": [
        {
          "output_type": "stream",
          "name": "stdout",
          "text": [
            "Drive already mounted at /content/drive; to attempt to forcibly remount, call drive.mount(\"/content/drive\", force_remount=True).\n"
          ]
        }
      ]
    },
    {
      "cell_type": "code",
      "source": [
        "source_products = pd.read_csv(\"Products Dictionary/FV_Cambios_fix.csv\")\n",
        "source_products_df = pd.DataFrame(source_products)"
      ],
      "metadata": {
        "id": "ONMy8HlBBCHw"
      },
      "execution_count": null,
      "outputs": []
    },
    {
      "cell_type": "markdown",
      "source": [
        "# Dataset 1"
      ],
      "metadata": {
        "id": "sRqQOex69-mY"
      }
    },
    {
      "cell_type": "markdown",
      "source": [
        "Corregimos los nombres de los productos para que se llamen como los de los demás datasets.\n",
        "Utilizamos como diccionario la fila de origen \"*Dataset 1*\" y reemplazamos sus valores por \"*Dataset 1 N*\" del documento **FV_Cambios.csv**."
      ],
      "metadata": {
        "id": "KErMkY88AWWW"
      }
    },
    {
      "cell_type": "code",
      "source": [
        "source_dict_ds1 = source_products_df[['Dataset 1', 'Dataset 1 N']]\n",
        "dict_1 = dict(source_dict_ds1.values)\n",
        "df_1 = df_1.replace({\"Producto\":dict_1})"
      ],
      "metadata": {
        "id": "CSzuNFErAWAX"
      },
      "execution_count": null,
      "outputs": []
    },
    {
      "cell_type": "markdown",
      "source": [
        "Eliminamos las filas que contienen nulos en la columna **Producto**."
      ],
      "metadata": {
        "id": "0-FjyVDkyrly"
      }
    },
    {
      "cell_type": "code",
      "source": [
        "df_1.dropna(axis=0, subset=['Producto'], inplace=True)"
      ],
      "metadata": {
        "id": "1aXJqFU3yrsM"
      },
      "execution_count": null,
      "outputs": []
    },
    {
      "cell_type": "markdown",
      "source": [
        "Nos quedamos únicamente con los valores que corresponden al total a nivel nacional en España, descartando los relativos a las comunidades autónomas."
      ],
      "metadata": {
        "id": "y6MY6ovECZ_L"
      }
    },
    {
      "cell_type": "code",
      "source": [
        "df_1 = df_1[df_1['CCAA'] == 'Total Nacional']"
      ],
      "metadata": {
        "id": "7pvo04nmCaOt"
      },
      "execution_count": null,
      "outputs": []
    },
    {
      "cell_type": "markdown",
      "source": [
        "Cambiamos el formato de los meses, de su nombre en texto a la numeración correspondiente, y después pasamos las columnas de año y mes a tipo entero (int)."
      ],
      "metadata": {
        "id": "9cN0iwCkzJ_5"
      }
    },
    {
      "cell_type": "code",
      "source": [
        "months_dict  = {'Enero':1, 'Febrero':2, 'Marzo':3, 'Abril':4, 'Mayo':5, 'Junio':6, 'Julio':7, 'Agosto':8, 'Septiembre':9, 'Octubre':10, 'Noviembre':11, 'Diciembre':12}\n",
        "df_1.Mes = df_1.Mes.map(months_dict)\n",
        "df_1['Mes']=df_1['Mes'].astype(int)\n",
        "df_1['Año']=df_1['Año'].astype(int)"
      ],
      "metadata": {
        "id": "NvHJh5WDzKEO"
      },
      "execution_count": null,
      "outputs": []
    },
    {
      "cell_type": "markdown",
      "source": [
        "Eliminamos las columnas *CCAA*, *Valor (miles de €)* y* Gasto per capita*."
      ],
      "metadata": {
        "id": "MA1sr3yfCbc9"
      }
    },
    {
      "cell_type": "code",
      "source": [
        "df_1.drop(['CCAA','Valor (miles de €)', 'Gasto per capita'], axis=1, inplace=True) # inplace=True"
      ],
      "metadata": {
        "id": "XEizY9gFCbmN"
      },
      "execution_count": null,
      "outputs": []
    },
    {
      "cell_type": "markdown",
      "source": [
        "Renombramos las columnas *Año*, *Mes*, *Producto*, *Volumen (miles de kg)*, *Precio medio kg*, *Penetracion (%)* y *Consumo per capita* por *Year*, *Month*, *Product*, *Volume kg*, *Avg Weight*. *Penetration (%)* y *Per Capita Consum* respectivamente."
      ],
      "metadata": {
        "id": "S_qnV9g0Crxs"
      }
    },
    {
      "cell_type": "code",
      "source": [
        "df_1.rename(columns = {'Año': 'Year', 'Mes': 'Month', 'Producto': 'Product', 'Volumen (miles de kg)': 'Volume kg', 'Precio medio kg': 'Avg Weight', 'Penetracion (%)': 'Penetration (%)', 'Consumo per capita': 'Per Capita Consum'}, inplace=True)\n",
        "df_1.set_index(['Product', 'Year', 'Month'])\n",
        "df_1 = df_1.groupby(['Product', 'Year', 'Month']).agg({'Volume kg':'sum','Avg Weight':'mean', 'Penetración (%)': 'mean', 'Per Capita Consum': 'mean'}).reset_index()"
      ],
      "metadata": {
        "id": "8nqzgGoPCr5S"
      },
      "execution_count": null,
      "outputs": []
    },
    {
      "cell_type": "markdown",
      "source": [
        "Resultado"
      ],
      "metadata": {
        "id": "AN_OPgDfDv2U"
      }
    },
    {
      "cell_type": "code",
      "source": [
        "df_1"
      ],
      "metadata": {
        "id": "O6DCebIXDv_H",
        "colab": {
          "base_uri": "https://localhost:8080/"
        },
        "outputId": "a4e21a17-593d-496b-f957-e4ee9c2b2b69"
      },
      "execution_count": null,
      "outputs": [
        {
          "output_type": "execute_result",
          "data": {
            "text/plain": [
              "       Product  Year  Month  Volume kg  Avg Weight  Penetración (%)  \\\n",
              "0     AGUACATE  2018      1    4378.92        3.35            23.49   \n",
              "1     AGUACATE  2018      2    4086.17        3.32            23.05   \n",
              "2     AGUACATE  2018      3    4471.08        3.59            24.01   \n",
              "3     AGUACATE  2018      4    4705.31        3.48            24.43   \n",
              "4     AGUACATE  2018      5    5185.62        3.30            26.15   \n",
              "..         ...   ...    ...        ...         ...              ...   \n",
              "885  ZANAHORIA  2020      2   13852.21        0.96            55.74   \n",
              "886  ZANAHORIA  2020      3   17026.27        0.97            62.82   \n",
              "887  ZANAHORIA  2020      4   20621.82        0.99            68.42   \n",
              "888  ZANAHORIA  2020      5   18777.18        0.96            64.73   \n",
              "889  ZANAHORIA  2020      6   15131.89        0.94            58.81   \n",
              "\n",
              "     Per Capita Consum  \n",
              "0                 0.10  \n",
              "1                 0.09  \n",
              "2                 0.10  \n",
              "3                 0.10  \n",
              "4                 0.11  \n",
              "..                 ...  \n",
              "885               0.31  \n",
              "886               0.38  \n",
              "887               0.47  \n",
              "888               0.42  \n",
              "889               0.34  \n",
              "\n",
              "[890 rows x 7 columns]"
            ],
            "text/html": [
              "\n",
              "  <div id=\"df-6a67f0c7-9f26-4e92-925f-7dbc60e7b007\">\n",
              "    <div class=\"colab-df-container\">\n",
              "      <div>\n",
              "<style scoped>\n",
              "    .dataframe tbody tr th:only-of-type {\n",
              "        vertical-align: middle;\n",
              "    }\n",
              "\n",
              "    .dataframe tbody tr th {\n",
              "        vertical-align: top;\n",
              "    }\n",
              "\n",
              "    .dataframe thead th {\n",
              "        text-align: right;\n",
              "    }\n",
              "</style>\n",
              "<table border=\"1\" class=\"dataframe\">\n",
              "  <thead>\n",
              "    <tr style=\"text-align: right;\">\n",
              "      <th></th>\n",
              "      <th>Product</th>\n",
              "      <th>Year</th>\n",
              "      <th>Month</th>\n",
              "      <th>Volume kg</th>\n",
              "      <th>Avg Weight</th>\n",
              "      <th>Penetración (%)</th>\n",
              "      <th>Per Capita Consum</th>\n",
              "    </tr>\n",
              "  </thead>\n",
              "  <tbody>\n",
              "    <tr>\n",
              "      <th>0</th>\n",
              "      <td>AGUACATE</td>\n",
              "      <td>2018</td>\n",
              "      <td>1</td>\n",
              "      <td>4378.92</td>\n",
              "      <td>3.35</td>\n",
              "      <td>23.49</td>\n",
              "      <td>0.10</td>\n",
              "    </tr>\n",
              "    <tr>\n",
              "      <th>1</th>\n",
              "      <td>AGUACATE</td>\n",
              "      <td>2018</td>\n",
              "      <td>2</td>\n",
              "      <td>4086.17</td>\n",
              "      <td>3.32</td>\n",
              "      <td>23.05</td>\n",
              "      <td>0.09</td>\n",
              "    </tr>\n",
              "    <tr>\n",
              "      <th>2</th>\n",
              "      <td>AGUACATE</td>\n",
              "      <td>2018</td>\n",
              "      <td>3</td>\n",
              "      <td>4471.08</td>\n",
              "      <td>3.59</td>\n",
              "      <td>24.01</td>\n",
              "      <td>0.10</td>\n",
              "    </tr>\n",
              "    <tr>\n",
              "      <th>3</th>\n",
              "      <td>AGUACATE</td>\n",
              "      <td>2018</td>\n",
              "      <td>4</td>\n",
              "      <td>4705.31</td>\n",
              "      <td>3.48</td>\n",
              "      <td>24.43</td>\n",
              "      <td>0.10</td>\n",
              "    </tr>\n",
              "    <tr>\n",
              "      <th>4</th>\n",
              "      <td>AGUACATE</td>\n",
              "      <td>2018</td>\n",
              "      <td>5</td>\n",
              "      <td>5185.62</td>\n",
              "      <td>3.30</td>\n",
              "      <td>26.15</td>\n",
              "      <td>0.11</td>\n",
              "    </tr>\n",
              "    <tr>\n",
              "      <th>...</th>\n",
              "      <td>...</td>\n",
              "      <td>...</td>\n",
              "      <td>...</td>\n",
              "      <td>...</td>\n",
              "      <td>...</td>\n",
              "      <td>...</td>\n",
              "      <td>...</td>\n",
              "    </tr>\n",
              "    <tr>\n",
              "      <th>885</th>\n",
              "      <td>ZANAHORIA</td>\n",
              "      <td>2020</td>\n",
              "      <td>2</td>\n",
              "      <td>13852.21</td>\n",
              "      <td>0.96</td>\n",
              "      <td>55.74</td>\n",
              "      <td>0.31</td>\n",
              "    </tr>\n",
              "    <tr>\n",
              "      <th>886</th>\n",
              "      <td>ZANAHORIA</td>\n",
              "      <td>2020</td>\n",
              "      <td>3</td>\n",
              "      <td>17026.27</td>\n",
              "      <td>0.97</td>\n",
              "      <td>62.82</td>\n",
              "      <td>0.38</td>\n",
              "    </tr>\n",
              "    <tr>\n",
              "      <th>887</th>\n",
              "      <td>ZANAHORIA</td>\n",
              "      <td>2020</td>\n",
              "      <td>4</td>\n",
              "      <td>20621.82</td>\n",
              "      <td>0.99</td>\n",
              "      <td>68.42</td>\n",
              "      <td>0.47</td>\n",
              "    </tr>\n",
              "    <tr>\n",
              "      <th>888</th>\n",
              "      <td>ZANAHORIA</td>\n",
              "      <td>2020</td>\n",
              "      <td>5</td>\n",
              "      <td>18777.18</td>\n",
              "      <td>0.96</td>\n",
              "      <td>64.73</td>\n",
              "      <td>0.42</td>\n",
              "    </tr>\n",
              "    <tr>\n",
              "      <th>889</th>\n",
              "      <td>ZANAHORIA</td>\n",
              "      <td>2020</td>\n",
              "      <td>6</td>\n",
              "      <td>15131.89</td>\n",
              "      <td>0.94</td>\n",
              "      <td>58.81</td>\n",
              "      <td>0.34</td>\n",
              "    </tr>\n",
              "  </tbody>\n",
              "</table>\n",
              "<p>890 rows × 7 columns</p>\n",
              "</div>\n",
              "      <button class=\"colab-df-convert\" onclick=\"convertToInteractive('df-6a67f0c7-9f26-4e92-925f-7dbc60e7b007')\"\n",
              "              title=\"Convert this dataframe to an interactive table.\"\n",
              "              style=\"display:none;\">\n",
              "        \n",
              "  <svg xmlns=\"http://www.w3.org/2000/svg\" height=\"24px\"viewBox=\"0 0 24 24\"\n",
              "       width=\"24px\">\n",
              "    <path d=\"M0 0h24v24H0V0z\" fill=\"none\"/>\n",
              "    <path d=\"M18.56 5.44l.94 2.06.94-2.06 2.06-.94-2.06-.94-.94-2.06-.94 2.06-2.06.94zm-11 1L8.5 8.5l.94-2.06 2.06-.94-2.06-.94L8.5 2.5l-.94 2.06-2.06.94zm10 10l.94 2.06.94-2.06 2.06-.94-2.06-.94-.94-2.06-.94 2.06-2.06.94z\"/><path d=\"M17.41 7.96l-1.37-1.37c-.4-.4-.92-.59-1.43-.59-.52 0-1.04.2-1.43.59L10.3 9.45l-7.72 7.72c-.78.78-.78 2.05 0 2.83L4 21.41c.39.39.9.59 1.41.59.51 0 1.02-.2 1.41-.59l7.78-7.78 2.81-2.81c.8-.78.8-2.07 0-2.86zM5.41 20L4 18.59l7.72-7.72 1.47 1.35L5.41 20z\"/>\n",
              "  </svg>\n",
              "      </button>\n",
              "      \n",
              "  <style>\n",
              "    .colab-df-container {\n",
              "      display:flex;\n",
              "      flex-wrap:wrap;\n",
              "      gap: 12px;\n",
              "    }\n",
              "\n",
              "    .colab-df-convert {\n",
              "      background-color: #E8F0FE;\n",
              "      border: none;\n",
              "      border-radius: 50%;\n",
              "      cursor: pointer;\n",
              "      display: none;\n",
              "      fill: #1967D2;\n",
              "      height: 32px;\n",
              "      padding: 0 0 0 0;\n",
              "      width: 32px;\n",
              "    }\n",
              "\n",
              "    .colab-df-convert:hover {\n",
              "      background-color: #E2EBFA;\n",
              "      box-shadow: 0px 1px 2px rgba(60, 64, 67, 0.3), 0px 1px 3px 1px rgba(60, 64, 67, 0.15);\n",
              "      fill: #174EA6;\n",
              "    }\n",
              "\n",
              "    [theme=dark] .colab-df-convert {\n",
              "      background-color: #3B4455;\n",
              "      fill: #D2E3FC;\n",
              "    }\n",
              "\n",
              "    [theme=dark] .colab-df-convert:hover {\n",
              "      background-color: #434B5C;\n",
              "      box-shadow: 0px 1px 3px 1px rgba(0, 0, 0, 0.15);\n",
              "      filter: drop-shadow(0px 1px 2px rgba(0, 0, 0, 0.3));\n",
              "      fill: #FFFFFF;\n",
              "    }\n",
              "  </style>\n",
              "\n",
              "      <script>\n",
              "        const buttonEl =\n",
              "          document.querySelector('#df-6a67f0c7-9f26-4e92-925f-7dbc60e7b007 button.colab-df-convert');\n",
              "        buttonEl.style.display =\n",
              "          google.colab.kernel.accessAllowed ? 'block' : 'none';\n",
              "\n",
              "        async function convertToInteractive(key) {\n",
              "          const element = document.querySelector('#df-6a67f0c7-9f26-4e92-925f-7dbc60e7b007');\n",
              "          const dataTable =\n",
              "            await google.colab.kernel.invokeFunction('convertToInteractive',\n",
              "                                                     [key], {});\n",
              "          if (!dataTable) return;\n",
              "\n",
              "          const docLinkHtml = 'Like what you see? Visit the ' +\n",
              "            '<a target=\"_blank\" href=https://colab.research.google.com/notebooks/data_table.ipynb>data table notebook</a>'\n",
              "            + ' to learn more about interactive tables.';\n",
              "          element.innerHTML = '';\n",
              "          dataTable['output_type'] = 'display_data';\n",
              "          await google.colab.output.renderOutput(dataTable, element);\n",
              "          const docLink = document.createElement('div');\n",
              "          docLink.innerHTML = docLinkHtml;\n",
              "          element.appendChild(docLink);\n",
              "        }\n",
              "      </script>\n",
              "    </div>\n",
              "  </div>\n",
              "  "
            ]
          },
          "metadata": {},
          "execution_count": 103
        }
      ]
    },
    {
      "cell_type": "markdown",
      "source": [
        "# Dataset 3a"
      ],
      "metadata": {
        "id": "z1oqhZjEEP0m"
      }
    },
    {
      "cell_type": "markdown",
      "source": [
        "Corregimos los nombres de los productos para que se llamen como los de los demás datasets.\n",
        "Utilizamos como diccionario la fila de origen \"*Dataset 3a*\" y reemplazamos sus valores por \"*Dataset 3a N*\" del documento **FV_Cambios.csv**."
      ],
      "metadata": {
        "id": "g8v7QErSFJ-E"
      }
    },
    {
      "cell_type": "code",
      "source": [
        "source_dict_ds3a = source_products_df[['Dataset 3a', 'Dataset 3a N']]\n",
        "dict_3a = dict(source_dict_ds3a.values)\n",
        "df_3a = df_3a.replace({\"product\":dict_3a})"
      ],
      "metadata": {
        "id": "M6_q_K3DFKHH"
      },
      "execution_count": null,
      "outputs": []
    },
    {
      "cell_type": "markdown",
      "source": [
        "Eliminamos las filas que contienen nulos en la columna **product**."
      ],
      "metadata": {
        "id": "Zb_LnbcVvZVF"
      }
    },
    {
      "cell_type": "code",
      "source": [
        "df_3a.dropna(axis=0, subset=['product'], inplace=True)"
      ],
      "metadata": {
        "id": "NeYg2MmpvZZj"
      },
      "execution_count": null,
      "outputs": []
    },
    {
      "cell_type": "markdown",
      "source": [
        "Eliminamos las columnas *Variedad*, *Origen*, *Unidad*, *Familia*, *Price min* y *Price max*, y sumamos los valores de las filas agrupando por producto y fecha (mes y año)."
      ],
      "metadata": {
        "id": "XQ41iJauxJzF"
      }
    },
    {
      "cell_type": "code",
      "source": [
        "df_3a.drop(['variedad','origen', 'Unidad', 'familia','price_min','price_max'], axis=1, inplace=True) # inplace=True\n",
        "df_3a.rename(columns = {'YEAR': 'Year', 'MONTH': 'Month', 'product': 'Product'}, inplace=True)\n",
        "df_3a = df_3a.groupby(['Product', 'Year', 'Month']).agg({'price_mean': 'mean', 'Volumen': 'sum'}).reset_index()"
      ],
      "metadata": {
        "id": "UCUpLEtAxJ4b"
      },
      "execution_count": null,
      "outputs": []
    },
    {
      "cell_type": "markdown",
      "source": [
        "Resultado"
      ],
      "metadata": {
        "id": "9V_vsZEPyH-M"
      }
    },
    {
      "cell_type": "code",
      "source": [
        "df_3a"
      ],
      "metadata": {
        "colab": {
          "base_uri": "https://localhost:8080/"
        },
        "id": "6tdglZscyICV",
        "outputId": "cafc87d7-2362-427e-b4a0-ee82bd143b40"
      },
      "execution_count": null,
      "outputs": [
        {
          "output_type": "execute_result",
          "data": {
            "text/plain": [
              "       Product  Year  Month  price_mean  Volumen\n",
              "0     AGUACATE  2018      1    4.000000  1245632\n",
              "1     AGUACATE  2018      2    4.112269  1375868\n",
              "2     AGUACATE  2018      3    4.439931  1271984\n",
              "3     AGUACATE  2018      4    4.447526  1474290\n",
              "4     AGUACATE  2018      5    4.163207  1714863\n",
              "..         ...   ...    ...         ...      ...\n",
              "853  ZANAHORIA  2020      7    0.675000  5197152\n",
              "854  ZANAHORIA  2020      8    0.675000  4881272\n",
              "855  ZANAHORIA  2020      9    0.675000  5999779\n",
              "856  ZANAHORIA  2020     10    0.675000  6343144\n",
              "857  ZANAHORIA  2020     11    0.675000  4673659\n",
              "\n",
              "[858 rows x 5 columns]"
            ],
            "text/html": [
              "\n",
              "  <div id=\"df-061ccf43-eb1f-4c3f-b13a-e2af83bb2640\">\n",
              "    <div class=\"colab-df-container\">\n",
              "      <div>\n",
              "<style scoped>\n",
              "    .dataframe tbody tr th:only-of-type {\n",
              "        vertical-align: middle;\n",
              "    }\n",
              "\n",
              "    .dataframe tbody tr th {\n",
              "        vertical-align: top;\n",
              "    }\n",
              "\n",
              "    .dataframe thead th {\n",
              "        text-align: right;\n",
              "    }\n",
              "</style>\n",
              "<table border=\"1\" class=\"dataframe\">\n",
              "  <thead>\n",
              "    <tr style=\"text-align: right;\">\n",
              "      <th></th>\n",
              "      <th>Product</th>\n",
              "      <th>Year</th>\n",
              "      <th>Month</th>\n",
              "      <th>price_mean</th>\n",
              "      <th>Volumen</th>\n",
              "    </tr>\n",
              "  </thead>\n",
              "  <tbody>\n",
              "    <tr>\n",
              "      <th>0</th>\n",
              "      <td>AGUACATE</td>\n",
              "      <td>2018</td>\n",
              "      <td>1</td>\n",
              "      <td>4.000000</td>\n",
              "      <td>1245632</td>\n",
              "    </tr>\n",
              "    <tr>\n",
              "      <th>1</th>\n",
              "      <td>AGUACATE</td>\n",
              "      <td>2018</td>\n",
              "      <td>2</td>\n",
              "      <td>4.112269</td>\n",
              "      <td>1375868</td>\n",
              "    </tr>\n",
              "    <tr>\n",
              "      <th>2</th>\n",
              "      <td>AGUACATE</td>\n",
              "      <td>2018</td>\n",
              "      <td>3</td>\n",
              "      <td>4.439931</td>\n",
              "      <td>1271984</td>\n",
              "    </tr>\n",
              "    <tr>\n",
              "      <th>3</th>\n",
              "      <td>AGUACATE</td>\n",
              "      <td>2018</td>\n",
              "      <td>4</td>\n",
              "      <td>4.447526</td>\n",
              "      <td>1474290</td>\n",
              "    </tr>\n",
              "    <tr>\n",
              "      <th>4</th>\n",
              "      <td>AGUACATE</td>\n",
              "      <td>2018</td>\n",
              "      <td>5</td>\n",
              "      <td>4.163207</td>\n",
              "      <td>1714863</td>\n",
              "    </tr>\n",
              "    <tr>\n",
              "      <th>...</th>\n",
              "      <td>...</td>\n",
              "      <td>...</td>\n",
              "      <td>...</td>\n",
              "      <td>...</td>\n",
              "      <td>...</td>\n",
              "    </tr>\n",
              "    <tr>\n",
              "      <th>853</th>\n",
              "      <td>ZANAHORIA</td>\n",
              "      <td>2020</td>\n",
              "      <td>7</td>\n",
              "      <td>0.675000</td>\n",
              "      <td>5197152</td>\n",
              "    </tr>\n",
              "    <tr>\n",
              "      <th>854</th>\n",
              "      <td>ZANAHORIA</td>\n",
              "      <td>2020</td>\n",
              "      <td>8</td>\n",
              "      <td>0.675000</td>\n",
              "      <td>4881272</td>\n",
              "    </tr>\n",
              "    <tr>\n",
              "      <th>855</th>\n",
              "      <td>ZANAHORIA</td>\n",
              "      <td>2020</td>\n",
              "      <td>9</td>\n",
              "      <td>0.675000</td>\n",
              "      <td>5999779</td>\n",
              "    </tr>\n",
              "    <tr>\n",
              "      <th>856</th>\n",
              "      <td>ZANAHORIA</td>\n",
              "      <td>2020</td>\n",
              "      <td>10</td>\n",
              "      <td>0.675000</td>\n",
              "      <td>6343144</td>\n",
              "    </tr>\n",
              "    <tr>\n",
              "      <th>857</th>\n",
              "      <td>ZANAHORIA</td>\n",
              "      <td>2020</td>\n",
              "      <td>11</td>\n",
              "      <td>0.675000</td>\n",
              "      <td>4673659</td>\n",
              "    </tr>\n",
              "  </tbody>\n",
              "</table>\n",
              "<p>858 rows × 5 columns</p>\n",
              "</div>\n",
              "      <button class=\"colab-df-convert\" onclick=\"convertToInteractive('df-061ccf43-eb1f-4c3f-b13a-e2af83bb2640')\"\n",
              "              title=\"Convert this dataframe to an interactive table.\"\n",
              "              style=\"display:none;\">\n",
              "        \n",
              "  <svg xmlns=\"http://www.w3.org/2000/svg\" height=\"24px\"viewBox=\"0 0 24 24\"\n",
              "       width=\"24px\">\n",
              "    <path d=\"M0 0h24v24H0V0z\" fill=\"none\"/>\n",
              "    <path d=\"M18.56 5.44l.94 2.06.94-2.06 2.06-.94-2.06-.94-.94-2.06-.94 2.06-2.06.94zm-11 1L8.5 8.5l.94-2.06 2.06-.94-2.06-.94L8.5 2.5l-.94 2.06-2.06.94zm10 10l.94 2.06.94-2.06 2.06-.94-2.06-.94-.94-2.06-.94 2.06-2.06.94z\"/><path d=\"M17.41 7.96l-1.37-1.37c-.4-.4-.92-.59-1.43-.59-.52 0-1.04.2-1.43.59L10.3 9.45l-7.72 7.72c-.78.78-.78 2.05 0 2.83L4 21.41c.39.39.9.59 1.41.59.51 0 1.02-.2 1.41-.59l7.78-7.78 2.81-2.81c.8-.78.8-2.07 0-2.86zM5.41 20L4 18.59l7.72-7.72 1.47 1.35L5.41 20z\"/>\n",
              "  </svg>\n",
              "      </button>\n",
              "      \n",
              "  <style>\n",
              "    .colab-df-container {\n",
              "      display:flex;\n",
              "      flex-wrap:wrap;\n",
              "      gap: 12px;\n",
              "    }\n",
              "\n",
              "    .colab-df-convert {\n",
              "      background-color: #E8F0FE;\n",
              "      border: none;\n",
              "      border-radius: 50%;\n",
              "      cursor: pointer;\n",
              "      display: none;\n",
              "      fill: #1967D2;\n",
              "      height: 32px;\n",
              "      padding: 0 0 0 0;\n",
              "      width: 32px;\n",
              "    }\n",
              "\n",
              "    .colab-df-convert:hover {\n",
              "      background-color: #E2EBFA;\n",
              "      box-shadow: 0px 1px 2px rgba(60, 64, 67, 0.3), 0px 1px 3px 1px rgba(60, 64, 67, 0.15);\n",
              "      fill: #174EA6;\n",
              "    }\n",
              "\n",
              "    [theme=dark] .colab-df-convert {\n",
              "      background-color: #3B4455;\n",
              "      fill: #D2E3FC;\n",
              "    }\n",
              "\n",
              "    [theme=dark] .colab-df-convert:hover {\n",
              "      background-color: #434B5C;\n",
              "      box-shadow: 0px 1px 3px 1px rgba(0, 0, 0, 0.15);\n",
              "      filter: drop-shadow(0px 1px 2px rgba(0, 0, 0, 0.3));\n",
              "      fill: #FFFFFF;\n",
              "    }\n",
              "  </style>\n",
              "\n",
              "      <script>\n",
              "        const buttonEl =\n",
              "          document.querySelector('#df-061ccf43-eb1f-4c3f-b13a-e2af83bb2640 button.colab-df-convert');\n",
              "        buttonEl.style.display =\n",
              "          google.colab.kernel.accessAllowed ? 'block' : 'none';\n",
              "\n",
              "        async function convertToInteractive(key) {\n",
              "          const element = document.querySelector('#df-061ccf43-eb1f-4c3f-b13a-e2af83bb2640');\n",
              "          const dataTable =\n",
              "            await google.colab.kernel.invokeFunction('convertToInteractive',\n",
              "                                                     [key], {});\n",
              "          if (!dataTable) return;\n",
              "\n",
              "          const docLinkHtml = 'Like what you see? Visit the ' +\n",
              "            '<a target=\"_blank\" href=https://colab.research.google.com/notebooks/data_table.ipynb>data table notebook</a>'\n",
              "            + ' to learn more about interactive tables.';\n",
              "          element.innerHTML = '';\n",
              "          dataTable['output_type'] = 'display_data';\n",
              "          await google.colab.output.renderOutput(dataTable, element);\n",
              "          const docLink = document.createElement('div');\n",
              "          docLink.innerHTML = docLinkHtml;\n",
              "          element.appendChild(docLink);\n",
              "        }\n",
              "      </script>\n",
              "    </div>\n",
              "  </div>\n",
              "  "
            ]
          },
          "metadata": {},
          "execution_count": 107
        }
      ]
    },
    {
      "cell_type": "markdown",
      "source": [
        "# Dataset 3b"
      ],
      "metadata": {
        "id": "erEn03UVq3P_"
      }
    },
    {
      "cell_type": "markdown",
      "source": [
        "Corregimos los nombres de los productos para que se llamen como los de los demás datasets.\n",
        "Utilizamos como diccionario la fila de origen \"*Dataset 3b*\" y reemplazamos sus valores por \"*Dataset 3b N*\" del documento **FV_Cambios.csv**."
      ],
      "metadata": {
        "id": "TA3-sAveq38b"
      }
    },
    {
      "cell_type": "code",
      "source": [
        "source_dict_ds3b = source_products_df[['Dataset 3b', 'Dataset 3b N']]\n",
        "dict_3b = dict(source_dict_ds3b.values)\n",
        "df_3b = df_3b.replace({\"product\":dict_3b})"
      ],
      "metadata": {
        "id": "sZAHr9Gpq3Wt"
      },
      "execution_count": null,
      "outputs": []
    },
    {
      "cell_type": "markdown",
      "source": [
        "Eliminamos las filas que contienen nulos en la columna **product**."
      ],
      "metadata": {
        "id": "DyrZIzvDyJ4g"
      }
    },
    {
      "cell_type": "code",
      "source": [
        "df_3b.dropna(axis=0, subset=['product'], inplace=True)"
      ],
      "metadata": {
        "id": "vVEIsM5UyJ8f"
      },
      "execution_count": null,
      "outputs": []
    },
    {
      "cell_type": "markdown",
      "source": [
        "Eliminamos las columnas *Origen*, *Unidad* y *Familia*, y sumamos los valores de las filas agrupando por producto y fecha (mes y año)."
      ],
      "metadata": {
        "id": "OF4H9S72yKF_"
      }
    },
    {
      "cell_type": "code",
      "source": [
        "df_3b.drop(['origen','Unidad', 'familia'], axis=1, inplace=True) # inplace=True\n",
        "df_3b.rename(columns = {'YEAR': 'Year', 'MONTH': 'Month', 'product': 'Product'}, inplace=True)\n",
        "df_3b = df_3b.groupby(['Product', 'Year', 'Month']).agg({'price_mean': 'mean', 'Volumen': 'sum'}).reset_index()"
      ],
      "metadata": {
        "id": "P-ER4ncyyKJZ"
      },
      "execution_count": null,
      "outputs": []
    },
    {
      "cell_type": "markdown",
      "source": [
        "Resultado"
      ],
      "metadata": {
        "id": "mLYL8NzHyKOt"
      }
    },
    {
      "cell_type": "code",
      "source": [
        "df_3b"
      ],
      "metadata": {
        "colab": {
          "base_uri": "https://localhost:8080/"
        },
        "id": "IGxGmjsayKUQ",
        "outputId": "cb815726-5032-4b6f-8a8d-a5b283830ed0"
      },
      "execution_count": null,
      "outputs": [
        {
          "output_type": "execute_result",
          "data": {
            "text/plain": [
              "       Product  Year  Month  price_mean  Volumen\n",
              "0     AGUACATE  2018      1    3.230595   217134\n",
              "1     AGUACATE  2018      2    3.341602   251629\n",
              "2     AGUACATE  2018      3    3.372336   308587\n",
              "3     AGUACATE  2018      4    3.114612   405048\n",
              "4     AGUACATE  2018      5    3.019948   670959\n",
              "..         ...   ...    ...         ...      ...\n",
              "869  ZANAHORIA  2020      7    0.500000  1540542\n",
              "870  ZANAHORIA  2020      8    0.500000  1060692\n",
              "871  ZANAHORIA  2020      9    0.500000  1807343\n",
              "872  ZANAHORIA  2020     10    0.561071  1875883\n",
              "873  ZANAHORIA  2020     11    0.459763  1669661\n",
              "\n",
              "[874 rows x 5 columns]"
            ],
            "text/html": [
              "\n",
              "  <div id=\"df-be986928-f0db-4cb4-b728-b5ba775945e0\">\n",
              "    <div class=\"colab-df-container\">\n",
              "      <div>\n",
              "<style scoped>\n",
              "    .dataframe tbody tr th:only-of-type {\n",
              "        vertical-align: middle;\n",
              "    }\n",
              "\n",
              "    .dataframe tbody tr th {\n",
              "        vertical-align: top;\n",
              "    }\n",
              "\n",
              "    .dataframe thead th {\n",
              "        text-align: right;\n",
              "    }\n",
              "</style>\n",
              "<table border=\"1\" class=\"dataframe\">\n",
              "  <thead>\n",
              "    <tr style=\"text-align: right;\">\n",
              "      <th></th>\n",
              "      <th>Product</th>\n",
              "      <th>Year</th>\n",
              "      <th>Month</th>\n",
              "      <th>price_mean</th>\n",
              "      <th>Volumen</th>\n",
              "    </tr>\n",
              "  </thead>\n",
              "  <tbody>\n",
              "    <tr>\n",
              "      <th>0</th>\n",
              "      <td>AGUACATE</td>\n",
              "      <td>2018</td>\n",
              "      <td>1</td>\n",
              "      <td>3.230595</td>\n",
              "      <td>217134</td>\n",
              "    </tr>\n",
              "    <tr>\n",
              "      <th>1</th>\n",
              "      <td>AGUACATE</td>\n",
              "      <td>2018</td>\n",
              "      <td>2</td>\n",
              "      <td>3.341602</td>\n",
              "      <td>251629</td>\n",
              "    </tr>\n",
              "    <tr>\n",
              "      <th>2</th>\n",
              "      <td>AGUACATE</td>\n",
              "      <td>2018</td>\n",
              "      <td>3</td>\n",
              "      <td>3.372336</td>\n",
              "      <td>308587</td>\n",
              "    </tr>\n",
              "    <tr>\n",
              "      <th>3</th>\n",
              "      <td>AGUACATE</td>\n",
              "      <td>2018</td>\n",
              "      <td>4</td>\n",
              "      <td>3.114612</td>\n",
              "      <td>405048</td>\n",
              "    </tr>\n",
              "    <tr>\n",
              "      <th>4</th>\n",
              "      <td>AGUACATE</td>\n",
              "      <td>2018</td>\n",
              "      <td>5</td>\n",
              "      <td>3.019948</td>\n",
              "      <td>670959</td>\n",
              "    </tr>\n",
              "    <tr>\n",
              "      <th>...</th>\n",
              "      <td>...</td>\n",
              "      <td>...</td>\n",
              "      <td>...</td>\n",
              "      <td>...</td>\n",
              "      <td>...</td>\n",
              "    </tr>\n",
              "    <tr>\n",
              "      <th>869</th>\n",
              "      <td>ZANAHORIA</td>\n",
              "      <td>2020</td>\n",
              "      <td>7</td>\n",
              "      <td>0.500000</td>\n",
              "      <td>1540542</td>\n",
              "    </tr>\n",
              "    <tr>\n",
              "      <th>870</th>\n",
              "      <td>ZANAHORIA</td>\n",
              "      <td>2020</td>\n",
              "      <td>8</td>\n",
              "      <td>0.500000</td>\n",
              "      <td>1060692</td>\n",
              "    </tr>\n",
              "    <tr>\n",
              "      <th>871</th>\n",
              "      <td>ZANAHORIA</td>\n",
              "      <td>2020</td>\n",
              "      <td>9</td>\n",
              "      <td>0.500000</td>\n",
              "      <td>1807343</td>\n",
              "    </tr>\n",
              "    <tr>\n",
              "      <th>872</th>\n",
              "      <td>ZANAHORIA</td>\n",
              "      <td>2020</td>\n",
              "      <td>10</td>\n",
              "      <td>0.561071</td>\n",
              "      <td>1875883</td>\n",
              "    </tr>\n",
              "    <tr>\n",
              "      <th>873</th>\n",
              "      <td>ZANAHORIA</td>\n",
              "      <td>2020</td>\n",
              "      <td>11</td>\n",
              "      <td>0.459763</td>\n",
              "      <td>1669661</td>\n",
              "    </tr>\n",
              "  </tbody>\n",
              "</table>\n",
              "<p>874 rows × 5 columns</p>\n",
              "</div>\n",
              "      <button class=\"colab-df-convert\" onclick=\"convertToInteractive('df-be986928-f0db-4cb4-b728-b5ba775945e0')\"\n",
              "              title=\"Convert this dataframe to an interactive table.\"\n",
              "              style=\"display:none;\">\n",
              "        \n",
              "  <svg xmlns=\"http://www.w3.org/2000/svg\" height=\"24px\"viewBox=\"0 0 24 24\"\n",
              "       width=\"24px\">\n",
              "    <path d=\"M0 0h24v24H0V0z\" fill=\"none\"/>\n",
              "    <path d=\"M18.56 5.44l.94 2.06.94-2.06 2.06-.94-2.06-.94-.94-2.06-.94 2.06-2.06.94zm-11 1L8.5 8.5l.94-2.06 2.06-.94-2.06-.94L8.5 2.5l-.94 2.06-2.06.94zm10 10l.94 2.06.94-2.06 2.06-.94-2.06-.94-.94-2.06-.94 2.06-2.06.94z\"/><path d=\"M17.41 7.96l-1.37-1.37c-.4-.4-.92-.59-1.43-.59-.52 0-1.04.2-1.43.59L10.3 9.45l-7.72 7.72c-.78.78-.78 2.05 0 2.83L4 21.41c.39.39.9.59 1.41.59.51 0 1.02-.2 1.41-.59l7.78-7.78 2.81-2.81c.8-.78.8-2.07 0-2.86zM5.41 20L4 18.59l7.72-7.72 1.47 1.35L5.41 20z\"/>\n",
              "  </svg>\n",
              "      </button>\n",
              "      \n",
              "  <style>\n",
              "    .colab-df-container {\n",
              "      display:flex;\n",
              "      flex-wrap:wrap;\n",
              "      gap: 12px;\n",
              "    }\n",
              "\n",
              "    .colab-df-convert {\n",
              "      background-color: #E8F0FE;\n",
              "      border: none;\n",
              "      border-radius: 50%;\n",
              "      cursor: pointer;\n",
              "      display: none;\n",
              "      fill: #1967D2;\n",
              "      height: 32px;\n",
              "      padding: 0 0 0 0;\n",
              "      width: 32px;\n",
              "    }\n",
              "\n",
              "    .colab-df-convert:hover {\n",
              "      background-color: #E2EBFA;\n",
              "      box-shadow: 0px 1px 2px rgba(60, 64, 67, 0.3), 0px 1px 3px 1px rgba(60, 64, 67, 0.15);\n",
              "      fill: #174EA6;\n",
              "    }\n",
              "\n",
              "    [theme=dark] .colab-df-convert {\n",
              "      background-color: #3B4455;\n",
              "      fill: #D2E3FC;\n",
              "    }\n",
              "\n",
              "    [theme=dark] .colab-df-convert:hover {\n",
              "      background-color: #434B5C;\n",
              "      box-shadow: 0px 1px 3px 1px rgba(0, 0, 0, 0.15);\n",
              "      filter: drop-shadow(0px 1px 2px rgba(0, 0, 0, 0.3));\n",
              "      fill: #FFFFFF;\n",
              "    }\n",
              "  </style>\n",
              "\n",
              "      <script>\n",
              "        const buttonEl =\n",
              "          document.querySelector('#df-be986928-f0db-4cb4-b728-b5ba775945e0 button.colab-df-convert');\n",
              "        buttonEl.style.display =\n",
              "          google.colab.kernel.accessAllowed ? 'block' : 'none';\n",
              "\n",
              "        async function convertToInteractive(key) {\n",
              "          const element = document.querySelector('#df-be986928-f0db-4cb4-b728-b5ba775945e0');\n",
              "          const dataTable =\n",
              "            await google.colab.kernel.invokeFunction('convertToInteractive',\n",
              "                                                     [key], {});\n",
              "          if (!dataTable) return;\n",
              "\n",
              "          const docLinkHtml = 'Like what you see? Visit the ' +\n",
              "            '<a target=\"_blank\" href=https://colab.research.google.com/notebooks/data_table.ipynb>data table notebook</a>'\n",
              "            + ' to learn more about interactive tables.';\n",
              "          element.innerHTML = '';\n",
              "          dataTable['output_type'] = 'display_data';\n",
              "          await google.colab.output.renderOutput(dataTable, element);\n",
              "          const docLink = document.createElement('div');\n",
              "          docLink.innerHTML = docLinkHtml;\n",
              "          element.appendChild(docLink);\n",
              "        }\n",
              "      </script>\n",
              "    </div>\n",
              "  </div>\n",
              "  "
            ]
          },
          "metadata": {},
          "execution_count": 111
        }
      ]
    },
    {
      "cell_type": "markdown",
      "source": [
        "# Dataset 4"
      ],
      "metadata": {
        "id": "Hejpn3xp-waQ"
      }
    },
    {
      "cell_type": "markdown",
      "source": [
        "Renombramos los nombres de los países que no coinciden con los del dataset 5, y eliminamos las filas que pertenecen a \"*European Union*\"."
      ],
      "metadata": {
        "id": "X-CxYAuy1GMg"
      }
    },
    {
      "cell_type": "code",
      "source": [
        "# Fix Belgium name\n",
        "df_4['REPORTER'].replace(r'Belgium.*', 'Belgium', regex = True, inplace = True)\n",
        "\n",
        "# Fix France (France is unfixable)\n",
        "df_4['REPORTER'].replace(r'France.*', 'France', regex = True, inplace = True)\n",
        "\n",
        "# Fix Germany\n",
        "df_4['REPORTER'].replace(r'Germany.*', 'Germany', regex = True, inplace = True)\n",
        "\n",
        "# Fix Ireland\n",
        "df_4['REPORTER'].replace(r'Ireland.*', 'Ireland', regex = True, inplace = True)\n",
        "\n",
        "# Fix Italy\n",
        "df_4['REPORTER'].replace(r'Italy.*', 'Italy', regex = True, inplace = True)\n",
        "\n",
        "# Fix Spain\n",
        "df_4['REPORTER'].replace(r'Spain.*', 'Spain', regex = True, inplace = True)\n",
        "\n",
        "# Drop rows where REPORTER is \"European Union\"\n",
        "df_4 = df_4[df_4[\"REPORTER\"].str.contains(\"European Union.*\") == False]\n"
      ],
      "metadata": {
        "id": "9RUiwNcsE4dF"
      },
      "execution_count": null,
      "outputs": []
    },
    {
      "cell_type": "markdown",
      "source": [
        "Eliminamos registros referentes a años completos y cambiamos el formato de la columna PERIOD de String a Datetime\n"
      ],
      "metadata": {
        "id": "bYx4ruKEMjlr"
      }
    },
    {
      "cell_type": "code",
      "source": [
        "# Rows that represent yearly values\n",
        "regex = '[asd|asd|asd]'\n",
        "format = '[A-Z][a-z]{2}\\.-[A-Z][a-z]{2}\\. 20[0-9]{2}'\n",
        "df_4 = df_4[df_4['PERIOD'].str.contains(format,regex=True) == False]\n",
        "df_4['PERIOD'] = pd.to_datetime(df_4['PERIOD'], format = '%b. %Y')"
      ],
      "metadata": {
        "id": "Ucc0HbAfMjrg",
        "colab": {
          "base_uri": "https://localhost:8080/"
        },
        "outputId": "5cfa749f-f9fd-46b5-9983-672e44895ebf"
      },
      "execution_count": null,
      "outputs": [
        {
          "output_type": "stream",
          "name": "stderr",
          "text": [
            "<ipython-input-113-43cdccd214f8>:5: SettingWithCopyWarning: \n",
            "A value is trying to be set on a copy of a slice from a DataFrame.\n",
            "Try using .loc[row_indexer,col_indexer] = value instead\n",
            "\n",
            "See the caveats in the documentation: https://pandas.pydata.org/pandas-docs/stable/user_guide/indexing.html#returning-a-view-versus-a-copy\n",
            "  df_4['PERIOD'] = pd.to_datetime(df_4['PERIOD'], format = '%b. %Y')\n"
          ]
        }
      ]
    },
    {
      "cell_type": "markdown",
      "source": [
        "Transformar la columna PERIOD a las columnas Mes y Año, como en los demás datasets."
      ],
      "metadata": {
        "id": "g_0ZKY_BkP4m"
      }
    },
    {
      "cell_type": "code",
      "source": [
        "df_4.insert(0, 'Year', df_4['PERIOD'].dt.year)\n",
        "df_4.insert(1, 'Month', df_4['PERIOD'].dt.month)\n",
        "del df_4['PERIOD']"
      ],
      "metadata": {
        "id": "_iS1vIwKkP-B"
      },
      "execution_count": null,
      "outputs": []
    },
    {
      "cell_type": "markdown",
      "source": [
        "Corregimos los nombres de los productos para que se llamen como los de los demás datasets.\n",
        "Utilizamos como diccionario la fila de origen \"*Dataset 4*\" y reemplazamos sus valores por \"*Dataset 4 N*\" del documento **FV_Cambios.csv**."
      ],
      "metadata": {
        "id": "PN4jbqMOriJQ"
      }
    },
    {
      "cell_type": "code",
      "source": [
        "source_dict_ds4 = source_products_df[['Dataset 4', 'Dataset 4 N']]\n",
        "dict_4 = dict(source_dict_ds4.values)\n",
        "df_4 = df_4.replace({\"PRODUCT\":dict_4})"
      ],
      "metadata": {
        "id": "LZish4LBriQQ"
      },
      "execution_count": null,
      "outputs": []
    },
    {
      "cell_type": "markdown",
      "source": [
        "Eliminamos las filas que contienen nulos en la columna **PRODUCT**."
      ],
      "metadata": {
        "id": "4MnHWtWu3FzV"
      }
    },
    {
      "cell_type": "code",
      "source": [
        "df_4.dropna(axis=0, subset=['PRODUCT'], inplace=True)"
      ],
      "metadata": {
        "id": "5vCrO7PB3F5y"
      },
      "execution_count": null,
      "outputs": []
    },
    {
      "cell_type": "markdown",
      "source": [
        "Descartamos las filas cuyo indicador es **VALUE_IN_EUROS** o cuyo valor para flow es **EXPORT**."
      ],
      "metadata": {
        "id": "0sQAj6yl35Pl"
      }
    },
    {
      "cell_type": "code",
      "source": [
        "df_4 = df_4[df_4.INDICATORS.isin(['VALUE_IN_EUROS']) == False]\n",
        "df_4 = df_4[df_4.FLOW.isin(['EXPORT']) == False]"
      ],
      "metadata": {
        "id": "7vFGQGjb35Uq"
      },
      "execution_count": null,
      "outputs": []
    },
    {
      "cell_type": "markdown",
      "source": [
        "Reemplazamos los valores nulos expresados con el valor \"**:**\" por **0**."
      ],
      "metadata": {
        "id": "MgqQ8Wxk3GTL"
      }
    },
    {
      "cell_type": "code",
      "source": [
        "df_4['Value'].replace(r':', 0, regex = True, inplace = True)"
      ],
      "metadata": {
        "id": "h2se1dfF3GYC"
      },
      "execution_count": null,
      "outputs": []
    },
    {
      "cell_type": "markdown",
      "source": [
        "Eliminamos las columnas *PARTNER*, *FLOW* e *INDICATORS*."
      ],
      "metadata": {
        "id": "iqWbinn_4K5V"
      }
    },
    {
      "cell_type": "code",
      "source": [
        "df_4.drop(['PARTNER','FLOW', 'INDICATORS'], axis=1, inplace=True)"
      ],
      "metadata": {
        "id": "NyeU_x3i4K-a"
      },
      "execution_count": null,
      "outputs": []
    },
    {
      "cell_type": "markdown",
      "source": [
        "Renombramos la columna *REPORTER* por *P_origen*"
      ],
      "metadata": {
        "id": "D12hPAcmAHNa"
      }
    },
    {
      "cell_type": "code",
      "source": [
        "df_4.rename(columns = {'PRODUCT': 'Product', 'REPORTER': 'P_origen'}, inplace=True)"
      ],
      "metadata": {
        "id": "N7FoEZTPAHR6"
      },
      "execution_count": null,
      "outputs": []
    },
    {
      "cell_type": "markdown",
      "source": [
        "Resultado"
      ],
      "metadata": {
        "id": "EpozbtBK4Toq"
      }
    },
    {
      "cell_type": "code",
      "source": [
        "df_4"
      ],
      "metadata": {
        "colab": {
          "base_uri": "https://localhost:8080/"
        },
        "id": "vUUeckEv4Tsc",
        "outputId": "1e241e5a-4d27-4db5-b461-56abbb6bee33"
      },
      "execution_count": null,
      "outputs": [
        {
          "output_type": "execute_result",
          "data": {
            "text/plain": [
              "        Year  Month P_origen  Product  Value\n",
              "1       2018      1  Austria  PLATANO      0\n",
              "5       2018      2  Austria  PLATANO      0\n",
              "9       2018      3  Austria  PLATANO      0\n",
              "13      2018      4  Austria  PLATANO      0\n",
              "17      2018      5  Austria  PLATANO      4\n",
              "...      ...    ...      ...      ...    ...\n",
              "360809  2020      7   Sweden   TOMATE   4547\n",
              "360813  2020      8   Sweden   TOMATE   7039\n",
              "360817  2020      9   Sweden   TOMATE   4767\n",
              "360821  2020     10   Sweden   TOMATE   7824\n",
              "360825  2020     11   Sweden   TOMATE  15271\n",
              "\n",
              "[25569 rows x 5 columns]"
            ],
            "text/html": [
              "\n",
              "  <div id=\"df-e766f859-ef68-4dd9-a79f-ddc1aba01c30\">\n",
              "    <div class=\"colab-df-container\">\n",
              "      <div>\n",
              "<style scoped>\n",
              "    .dataframe tbody tr th:only-of-type {\n",
              "        vertical-align: middle;\n",
              "    }\n",
              "\n",
              "    .dataframe tbody tr th {\n",
              "        vertical-align: top;\n",
              "    }\n",
              "\n",
              "    .dataframe thead th {\n",
              "        text-align: right;\n",
              "    }\n",
              "</style>\n",
              "<table border=\"1\" class=\"dataframe\">\n",
              "  <thead>\n",
              "    <tr style=\"text-align: right;\">\n",
              "      <th></th>\n",
              "      <th>Year</th>\n",
              "      <th>Month</th>\n",
              "      <th>P_origen</th>\n",
              "      <th>Product</th>\n",
              "      <th>Value</th>\n",
              "    </tr>\n",
              "  </thead>\n",
              "  <tbody>\n",
              "    <tr>\n",
              "      <th>1</th>\n",
              "      <td>2018</td>\n",
              "      <td>1</td>\n",
              "      <td>Austria</td>\n",
              "      <td>PLATANO</td>\n",
              "      <td>0</td>\n",
              "    </tr>\n",
              "    <tr>\n",
              "      <th>5</th>\n",
              "      <td>2018</td>\n",
              "      <td>2</td>\n",
              "      <td>Austria</td>\n",
              "      <td>PLATANO</td>\n",
              "      <td>0</td>\n",
              "    </tr>\n",
              "    <tr>\n",
              "      <th>9</th>\n",
              "      <td>2018</td>\n",
              "      <td>3</td>\n",
              "      <td>Austria</td>\n",
              "      <td>PLATANO</td>\n",
              "      <td>0</td>\n",
              "    </tr>\n",
              "    <tr>\n",
              "      <th>13</th>\n",
              "      <td>2018</td>\n",
              "      <td>4</td>\n",
              "      <td>Austria</td>\n",
              "      <td>PLATANO</td>\n",
              "      <td>0</td>\n",
              "    </tr>\n",
              "    <tr>\n",
              "      <th>17</th>\n",
              "      <td>2018</td>\n",
              "      <td>5</td>\n",
              "      <td>Austria</td>\n",
              "      <td>PLATANO</td>\n",
              "      <td>4</td>\n",
              "    </tr>\n",
              "    <tr>\n",
              "      <th>...</th>\n",
              "      <td>...</td>\n",
              "      <td>...</td>\n",
              "      <td>...</td>\n",
              "      <td>...</td>\n",
              "      <td>...</td>\n",
              "    </tr>\n",
              "    <tr>\n",
              "      <th>360809</th>\n",
              "      <td>2020</td>\n",
              "      <td>7</td>\n",
              "      <td>Sweden</td>\n",
              "      <td>TOMATE</td>\n",
              "      <td>4547</td>\n",
              "    </tr>\n",
              "    <tr>\n",
              "      <th>360813</th>\n",
              "      <td>2020</td>\n",
              "      <td>8</td>\n",
              "      <td>Sweden</td>\n",
              "      <td>TOMATE</td>\n",
              "      <td>7039</td>\n",
              "    </tr>\n",
              "    <tr>\n",
              "      <th>360817</th>\n",
              "      <td>2020</td>\n",
              "      <td>9</td>\n",
              "      <td>Sweden</td>\n",
              "      <td>TOMATE</td>\n",
              "      <td>4767</td>\n",
              "    </tr>\n",
              "    <tr>\n",
              "      <th>360821</th>\n",
              "      <td>2020</td>\n",
              "      <td>10</td>\n",
              "      <td>Sweden</td>\n",
              "      <td>TOMATE</td>\n",
              "      <td>7824</td>\n",
              "    </tr>\n",
              "    <tr>\n",
              "      <th>360825</th>\n",
              "      <td>2020</td>\n",
              "      <td>11</td>\n",
              "      <td>Sweden</td>\n",
              "      <td>TOMATE</td>\n",
              "      <td>15271</td>\n",
              "    </tr>\n",
              "  </tbody>\n",
              "</table>\n",
              "<p>25569 rows × 5 columns</p>\n",
              "</div>\n",
              "      <button class=\"colab-df-convert\" onclick=\"convertToInteractive('df-e766f859-ef68-4dd9-a79f-ddc1aba01c30')\"\n",
              "              title=\"Convert this dataframe to an interactive table.\"\n",
              "              style=\"display:none;\">\n",
              "        \n",
              "  <svg xmlns=\"http://www.w3.org/2000/svg\" height=\"24px\"viewBox=\"0 0 24 24\"\n",
              "       width=\"24px\">\n",
              "    <path d=\"M0 0h24v24H0V0z\" fill=\"none\"/>\n",
              "    <path d=\"M18.56 5.44l.94 2.06.94-2.06 2.06-.94-2.06-.94-.94-2.06-.94 2.06-2.06.94zm-11 1L8.5 8.5l.94-2.06 2.06-.94-2.06-.94L8.5 2.5l-.94 2.06-2.06.94zm10 10l.94 2.06.94-2.06 2.06-.94-2.06-.94-.94-2.06-.94 2.06-2.06.94z\"/><path d=\"M17.41 7.96l-1.37-1.37c-.4-.4-.92-.59-1.43-.59-.52 0-1.04.2-1.43.59L10.3 9.45l-7.72 7.72c-.78.78-.78 2.05 0 2.83L4 21.41c.39.39.9.59 1.41.59.51 0 1.02-.2 1.41-.59l7.78-7.78 2.81-2.81c.8-.78.8-2.07 0-2.86zM5.41 20L4 18.59l7.72-7.72 1.47 1.35L5.41 20z\"/>\n",
              "  </svg>\n",
              "      </button>\n",
              "      \n",
              "  <style>\n",
              "    .colab-df-container {\n",
              "      display:flex;\n",
              "      flex-wrap:wrap;\n",
              "      gap: 12px;\n",
              "    }\n",
              "\n",
              "    .colab-df-convert {\n",
              "      background-color: #E8F0FE;\n",
              "      border: none;\n",
              "      border-radius: 50%;\n",
              "      cursor: pointer;\n",
              "      display: none;\n",
              "      fill: #1967D2;\n",
              "      height: 32px;\n",
              "      padding: 0 0 0 0;\n",
              "      width: 32px;\n",
              "    }\n",
              "\n",
              "    .colab-df-convert:hover {\n",
              "      background-color: #E2EBFA;\n",
              "      box-shadow: 0px 1px 2px rgba(60, 64, 67, 0.3), 0px 1px 3px 1px rgba(60, 64, 67, 0.15);\n",
              "      fill: #174EA6;\n",
              "    }\n",
              "\n",
              "    [theme=dark] .colab-df-convert {\n",
              "      background-color: #3B4455;\n",
              "      fill: #D2E3FC;\n",
              "    }\n",
              "\n",
              "    [theme=dark] .colab-df-convert:hover {\n",
              "      background-color: #434B5C;\n",
              "      box-shadow: 0px 1px 3px 1px rgba(0, 0, 0, 0.15);\n",
              "      filter: drop-shadow(0px 1px 2px rgba(0, 0, 0, 0.3));\n",
              "      fill: #FFFFFF;\n",
              "    }\n",
              "  </style>\n",
              "\n",
              "      <script>\n",
              "        const buttonEl =\n",
              "          document.querySelector('#df-e766f859-ef68-4dd9-a79f-ddc1aba01c30 button.colab-df-convert');\n",
              "        buttonEl.style.display =\n",
              "          google.colab.kernel.accessAllowed ? 'block' : 'none';\n",
              "\n",
              "        async function convertToInteractive(key) {\n",
              "          const element = document.querySelector('#df-e766f859-ef68-4dd9-a79f-ddc1aba01c30');\n",
              "          const dataTable =\n",
              "            await google.colab.kernel.invokeFunction('convertToInteractive',\n",
              "                                                     [key], {});\n",
              "          if (!dataTable) return;\n",
              "\n",
              "          const docLinkHtml = 'Like what you see? Visit the ' +\n",
              "            '<a target=\"_blank\" href=https://colab.research.google.com/notebooks/data_table.ipynb>data table notebook</a>'\n",
              "            + ' to learn more about interactive tables.';\n",
              "          element.innerHTML = '';\n",
              "          dataTable['output_type'] = 'display_data';\n",
              "          await google.colab.output.renderOutput(dataTable, element);\n",
              "          const docLink = document.createElement('div');\n",
              "          docLink.innerHTML = docLinkHtml;\n",
              "          element.appendChild(docLink);\n",
              "        }\n",
              "      </script>\n",
              "    </div>\n",
              "  </div>\n",
              "  "
            ]
          },
          "metadata": {},
          "execution_count": 121
        }
      ]
    },
    {
      "cell_type": "markdown",
      "source": [
        "# Dataset 5"
      ],
      "metadata": {
        "id": "fClq8YWusUlZ"
      }
    },
    {
      "cell_type": "markdown",
      "source": [
        "Se tienen nulos en los primeros dias del dataset dentro de la columna de casos acumulativos, esto se debe a que está calculado con los datos de 15 días antes, como no hay 15 días anteriores, es imposible calcularlos.\n",
        "\n",
        "Creemos que esos datos no son estrictamente necesarios y se podrían eliminar"
      ],
      "metadata": {
        "id": "4SGf556865u8"
      }
    },
    {
      "cell_type": "code",
      "source": [
        "df_5.drop(df_5[((df_5.day < 14) & (df_5.month == 1))].index, inplace=True,axis = 0)"
      ],
      "metadata": {
        "id": "8E486WL87FgC"
      },
      "execution_count": null,
      "outputs": []
    },
    {
      "cell_type": "markdown",
      "source": [
        "Convertimos las fechas a formato datetime"
      ],
      "metadata": {
        "id": "NqOaHW207BIR"
      }
    },
    {
      "cell_type": "code",
      "source": [
        "df_5['dateRep'] = pd.to_datetime(df_5['dateRep'])"
      ],
      "metadata": {
        "id": "7KJoKhJO650T"
      },
      "execution_count": null,
      "outputs": []
    },
    {
      "cell_type": "markdown",
      "source": [
        "Eliminamos las columnas *Cumulative_number_for_14_days_of_COVID-19_cases_per_100000*, *dateRep* y *popData2019*, *countryterritoryCode*, *geoId* y *continentExp*"
      ],
      "metadata": {
        "id": "ZA3IZ-xH7Fau"
      }
    },
    {
      "cell_type": "code",
      "source": [
        "df_5 = df_5.drop(columns = [\"day\",\"Cumulative_number_for_14_days_of_COVID-19_cases_per_100000\",\"dateRep\",\"popData2019\",\"countryterritoryCode\",\"geoId\",\"continentExp\"])"
      ],
      "metadata": {
        "id": "24kG-kWV7PVw"
      },
      "execution_count": null,
      "outputs": []
    },
    {
      "cell_type": "markdown",
      "source": [
        "Descartamos las filas en las que el país/territorio es *Cases_on_an_international_conveyance_Japan*"
      ],
      "metadata": {
        "id": "pzQDvJ92-ZR1"
      }
    },
    {
      "cell_type": "code",
      "source": [
        "df_5 = df_5[df_5.countriesAndTerritories != \"Cases_on_an_international_conveyance_Japan\"]"
      ],
      "metadata": {
        "id": "ZMh35feK-ZZx"
      },
      "execution_count": null,
      "outputs": []
    },
    {
      "cell_type": "markdown",
      "source": [
        "Renombramos las columnas *year*, *month* y *countriesAndTerritories* a *YEAR*, *MONTH* y *P_origen*, respectivamente"
      ],
      "metadata": {
        "id": "7MLYzN7TsUoM"
      }
    },
    {
      "cell_type": "code",
      "source": [
        "df_5.rename(columns = {'year': 'Year', 'month': 'Month', 'countriesAndTerritories': 'P_origen', 'cases': 'Cases', 'deaths': 'Deaths'}, inplace=True)"
      ],
      "metadata": {
        "id": "tLCnmopvTb2P"
      },
      "execution_count": null,
      "outputs": []
    },
    {
      "cell_type": "markdown",
      "source": [
        "Agrupamos por *año*, *mes* y *país*, y agregamos en las columnas **cases** y **deaths**"
      ],
      "metadata": {
        "id": "b56fYyWz-btt"
      }
    },
    {
      "cell_type": "code",
      "source": [
        "df_5 = df_5.groupby([\"Month\",\"Year\",\"P_origen\"]).agg({'Cases':'sum','Deaths':'sum'}).reset_index()"
      ],
      "metadata": {
        "id": "2GAPEoZk-by8"
      },
      "execution_count": null,
      "outputs": []
    },
    {
      "cell_type": "markdown",
      "source": [
        "Añadimos una columna con los datos de casos y muertes sumados"
      ],
      "metadata": {
        "id": "njA_L7Kb-evh"
      }
    },
    {
      "cell_type": "code",
      "source": [
        "df_5['Cases + Deaths'] = df_5[\"Cases\"] + df_5[\"Deaths\"]"
      ],
      "metadata": {
        "id": "DNSJGone-ez5"
      },
      "execution_count": null,
      "outputs": []
    },
    {
      "cell_type": "code",
      "source": [
        "countries = ['Afghanistan', 'Algeria', 'Armenia', 'Australia',\n",
        "       'Azerbaijan', 'Bahrain', 'Belarus','Brazil',\n",
        "       'Cambodia', 'Canada', 'China',\n",
        "       'Dominican_Republic', 'Ecuador', 'Egypt',\n",
        "       'Georgia', 'Iceland', 'India',\n",
        "       'Indonesia', 'Iran', 'Iraq', 'Israel', 'Japan',\n",
        "       'Kuwait', 'Lebanon', 'Malaysia',\n",
        "       'Mexico', 'Monaco', 'Nepal', 'New_Zealand',\n",
        "       'Nigeria', 'North_Macedonia', 'Norway', 'Oman', 'Pakistan',\n",
        "       'Philippines', 'Qatar', 'Russia', 'San_Marino',\n",
        "       'Singapore', 'South_Korea', 'Sri_Lanka',\n",
        "       'Switzerland', 'Taiwan', 'Thailand', 'United_Arab_Emirates',\n",
        "       'United_Kingdom', 'United_States_of_America', 'Vietnam', 'Albania',\n",
        "       'Andorra', 'Angola', 'Anguilla', 'Antigua_and_Barbuda',\n",
        "       'Argentina', 'Aruba', 'Bahamas', 'Bangladesh', 'Barbados',\n",
        "       'Belize', 'Benin', 'Bermuda', 'Bhutan', 'Bolivia',\n",
        "       'Bosnia_and_Herzegovina', 'British_Virgin_Islands',\n",
        "       'Brunei_Darussalam', 'Burkina_Faso', 'Cameroon',\n",
        "       'Cape_Verde', 'Cayman_Islands', 'Central_African_Republic', 'Chad',\n",
        "       'Chile', 'Colombia', 'Congo', 'Costa_Rica', 'Cote_dIvoire', 'Cuba',\n",
        "       'CuraÃ§ao', 'Democratic_Republic_of_the_Congo',\n",
        "       'Djibouti', 'Dominica', 'El_Salvador', 'Equatorial_Guinea',\n",
        "       'Eritrea', 'Eswatini', 'Ethiopia', 'Faroe_Islands', 'Fiji',\n",
        "       'French_Polynesia', 'Gabon', 'Gambia', 'Ghana', 'Gibraltar',\n",
        "       'Greenland', 'Grenada', 'Guam', 'Guatemala', 'Guernsey', 'Guinea',\n",
        "       'Guinea_Bissau', 'Guyana', 'Haiti', 'Holy_See', 'Honduras',\n",
        "       'Isle_of_Man', 'Jamaica', 'Jersey', 'Jordan',\n",
        "       'Kazakhstan', 'Kenya', 'Kosovo', 'Kyrgyzstan', 'Laos',\n",
        "       'Liberia', 'Libya', 'Liechtenstein', 'Madagascar', 'Maldives',\n",
        "       'Mali', 'Mauritania', 'Mauritius', 'Moldova', 'Mongolia',\n",
        "       'Montenegro', 'Montserrat', 'Morocco', 'Mozambique', 'Myanmar',\n",
        "       'Namibia', 'New_Caledonia', 'Nicaragua', 'Niger',\n",
        "       'Northern_Mariana_Islands', 'Palestine', 'Panama',\n",
        "       'Papua_New_Guinea', 'Paraguay', 'Peru',\n",
        "       'Puerto_Rico', 'Rwanda', 'Saint_Kitts_and_Nevis', 'Saint_Lucia',\n",
        "       'Saint_Vincent_and_the_Grenadines', 'Saudi_Arabia', 'Senegal',\n",
        "       'Serbia', 'Seychelles', 'Sint_Maarten',\n",
        "       'Somalia', 'South_Africa', 'Sudan', 'Suriname', 'Syria',\n",
        "       'Timor_Leste', 'Togo', 'Trinidad_and_Tobago', 'Tunisia', 'Turkey',\n",
        "       'Turks_and_Caicos_islands', 'Uganda', 'Ukraine',\n",
        "       'United_Republic_of_Tanzania', 'United_States_Virgin_Islands',\n",
        "       'Uruguay', 'Uzbekistan', 'Venezuela', 'Zambia', 'Zimbabwe',\n",
        "       'Bonaire. Saint Eustatius and Saba', 'Botswana', 'Burundi',\n",
        "       'Falkland_Islands_(Malvinas)', 'Malawi', 'Sao_Tome_and_Principe',\n",
        "       'Sierra_Leone', 'South_Sudan', 'Western_Sahara', 'Yemen',\n",
        "       'Comoros', 'Lesotho', 'Tajikistan', 'Marshall_Islands',\n",
        "       'Solomon_Islands', 'Wallis_and_Futuna', 'Vanuatu']\n",
        "\n",
        "mask = df_5['P_origen'].isin(countries)\n",
        "\n",
        "df_5.drop(df_5[df_5['P_origen'].isin(countries)].index, inplace = True)"
      ],
      "metadata": {
        "id": "-dwgCHvrWr9-"
      },
      "execution_count": null,
      "outputs": []
    },
    {
      "cell_type": "markdown",
      "source": [
        "Resultado"
      ],
      "metadata": {
        "id": "IMTPFqwwFrfx"
      }
    },
    {
      "cell_type": "code",
      "source": [
        "df_5['P_origen'].unique()"
      ],
      "metadata": {
        "colab": {
          "base_uri": "https://localhost:8080/"
        },
        "id": "feuYLmAlSLm-",
        "outputId": "bbf73b2a-83aa-4d99-f508-0b1aaee03649"
      },
      "execution_count": null,
      "outputs": [
        {
          "output_type": "execute_result",
          "data": {
            "text/plain": [
              "array(['Austria', 'Belgium', 'Croatia', 'Czechia', 'Denmark', 'Estonia',\n",
              "       'Finland', 'France', 'Germany', 'Greece', 'Ireland', 'Italy',\n",
              "       'Lithuania', 'Luxembourg', 'Netherlands', 'Romania', 'Spain',\n",
              "       'Sweden', 'Bulgaria', 'Cyprus', 'Hungary', 'Latvia', 'Malta',\n",
              "       'Poland', 'Portugal', 'Slovakia', 'Slovenia'], dtype=object)"
            ]
          },
          "metadata": {},
          "execution_count": 130
        }
      ]
    },
    {
      "cell_type": "markdown",
      "source": [
        "# Join/Merge"
      ],
      "metadata": {
        "id": "OJ_FfPtzriV-"
      }
    },
    {
      "cell_type": "markdown",
      "source": [
        "Merge de todos los datasets. Los dataset *1*, *3a*, *3b* y *4* por las columnas **Product**, **Year** y **Month**, y el *5* por **Year**, **Month** y **P_Origen**"
      ],
      "metadata": {
        "id": "ZrfFPDShr-Fy"
      }
    },
    {
      "cell_type": "code",
      "source": [
        "df = pd.merge(df_3a, df_3b, on=['Product', 'Year', 'Month'], how='outer')\n",
        "\n",
        "df = pd.merge(df, df_1, on=['Product', 'Year', 'Month'], how='outer')\n",
        "\n",
        "df = pd.merge(df, df_4, on=['Product','Year','Month'], how='outer')\n",
        "\n",
        "df = pd.merge(df, df_5, on=['Year','Month','P_origen'], how='left')"
      ],
      "metadata": {
        "id": "P_G2QEa5ontf"
      },
      "execution_count": null,
      "outputs": []
    },
    {
      "cell_type": "markdown",
      "source": [
        "Juntar columnas price_mean en una sola haciendo la media entre ellas"
      ],
      "metadata": {
        "id": "KbHskxhkJvi2"
      }
    },
    {
      "cell_type": "code",
      "source": [
        "df['price_mean_x'] = (df['price_mean_x']+df['price_mean_y'])/2\n",
        "df.rename(columns = {'price_mean_x': 'Price Mean'}, inplace=True)\n",
        "df.drop(columns = ['Volumen_x','Volumen_y', 'price_mean_y'], inplace=True)"
      ],
      "metadata": {
        "id": "IwC9rKajJvoL"
      },
      "execution_count": null,
      "outputs": []
    },
    {
      "cell_type": "markdown",
      "source": [
        "Resultado"
      ],
      "metadata": {
        "id": "hZhElkwcFuQM"
      }
    },
    {
      "cell_type": "code",
      "source": [
        "columns = ['Price Mean', 'Volume kg', 'Avg Weight', 'Penetración (%)', 'Per Capita Consum']\n",
        "df.dropna(subset=columns, how='all')"
      ],
      "metadata": {
        "colab": {
          "base_uri": "https://localhost:8080/",
          "height": 424
        },
        "id": "8pXZlUgB3g1u",
        "outputId": "89a5fc51-efda-4b1b-eec6-dac8e215a66e"
      },
      "execution_count": null,
      "outputs": [
        {
          "output_type": "execute_result",
          "data": {
            "text/plain": [
              "        Product  Year  Month  Price Mean  Volume kg  Avg Weight  \\\n",
              "0      AGUACATE  2018      1    3.615298    4378.92        3.35   \n",
              "1      AGUACATE  2018      2    3.726935    4086.17        3.32   \n",
              "2      AGUACATE  2018      3    3.906133    4471.08        3.59   \n",
              "3      AGUACATE  2018      4    3.781069    4705.31        3.48   \n",
              "4      AGUACATE  2018      5    3.591577    5185.62        3.30   \n",
              "...         ...   ...    ...         ...        ...         ...   \n",
              "25768      PERA  2020      7         NaN   10791.59        1.93   \n",
              "25769      PERA  2020      8         NaN   13387.91        1.83   \n",
              "25770      PERA  2020      9         NaN   20333.21        1.71   \n",
              "25771      PERA  2020     10         NaN   26084.68        1.70   \n",
              "25772      PERA  2020     11         NaN   23814.58        1.70   \n",
              "\n",
              "       Penetración (%)  Per Capita Consum P_origen Value  Cases  Deaths  \\\n",
              "0                23.49               0.10      NaN   NaN    NaN     NaN   \n",
              "1                23.05               0.09      NaN   NaN    NaN     NaN   \n",
              "2                24.01               0.10      NaN   NaN    NaN     NaN   \n",
              "3                24.43               0.10      NaN   NaN    NaN     NaN   \n",
              "4                26.15               0.11      NaN   NaN    NaN     NaN   \n",
              "...                ...                ...      ...   ...    ...     ...   \n",
              "25768              NaN               0.24      NaN   NaN    NaN     NaN   \n",
              "25769              NaN               0.30      NaN   NaN    NaN     NaN   \n",
              "25770              NaN               0.46      NaN   NaN    NaN     NaN   \n",
              "25771              NaN               0.59      NaN   NaN    NaN     NaN   \n",
              "25772              NaN               0.54      NaN   NaN    NaN     NaN   \n",
              "\n",
              "       Cases + Deaths  \n",
              "0                 NaN  \n",
              "1                 NaN  \n",
              "2                 NaN  \n",
              "3                 NaN  \n",
              "4                 NaN  \n",
              "...               ...  \n",
              "25768             NaN  \n",
              "25769             NaN  \n",
              "25770             NaN  \n",
              "25771             NaN  \n",
              "25772             NaN  \n",
              "\n",
              "[25685 rows x 13 columns]"
            ],
            "text/html": [
              "\n",
              "  <div id=\"df-dce3b0f0-01aa-45ef-9eaa-7d47eec652d1\">\n",
              "    <div class=\"colab-df-container\">\n",
              "      <div>\n",
              "<style scoped>\n",
              "    .dataframe tbody tr th:only-of-type {\n",
              "        vertical-align: middle;\n",
              "    }\n",
              "\n",
              "    .dataframe tbody tr th {\n",
              "        vertical-align: top;\n",
              "    }\n",
              "\n",
              "    .dataframe thead th {\n",
              "        text-align: right;\n",
              "    }\n",
              "</style>\n",
              "<table border=\"1\" class=\"dataframe\">\n",
              "  <thead>\n",
              "    <tr style=\"text-align: right;\">\n",
              "      <th></th>\n",
              "      <th>Product</th>\n",
              "      <th>Year</th>\n",
              "      <th>Month</th>\n",
              "      <th>Price Mean</th>\n",
              "      <th>Volume kg</th>\n",
              "      <th>Avg Weight</th>\n",
              "      <th>Penetración (%)</th>\n",
              "      <th>Per Capita Consum</th>\n",
              "      <th>P_origen</th>\n",
              "      <th>Value</th>\n",
              "      <th>Cases</th>\n",
              "      <th>Deaths</th>\n",
              "      <th>Cases + Deaths</th>\n",
              "    </tr>\n",
              "  </thead>\n",
              "  <tbody>\n",
              "    <tr>\n",
              "      <th>0</th>\n",
              "      <td>AGUACATE</td>\n",
              "      <td>2018</td>\n",
              "      <td>1</td>\n",
              "      <td>3.615298</td>\n",
              "      <td>4378.92</td>\n",
              "      <td>3.35</td>\n",
              "      <td>23.49</td>\n",
              "      <td>0.10</td>\n",
              "      <td>NaN</td>\n",
              "      <td>NaN</td>\n",
              "      <td>NaN</td>\n",
              "      <td>NaN</td>\n",
              "      <td>NaN</td>\n",
              "    </tr>\n",
              "    <tr>\n",
              "      <th>1</th>\n",
              "      <td>AGUACATE</td>\n",
              "      <td>2018</td>\n",
              "      <td>2</td>\n",
              "      <td>3.726935</td>\n",
              "      <td>4086.17</td>\n",
              "      <td>3.32</td>\n",
              "      <td>23.05</td>\n",
              "      <td>0.09</td>\n",
              "      <td>NaN</td>\n",
              "      <td>NaN</td>\n",
              "      <td>NaN</td>\n",
              "      <td>NaN</td>\n",
              "      <td>NaN</td>\n",
              "    </tr>\n",
              "    <tr>\n",
              "      <th>2</th>\n",
              "      <td>AGUACATE</td>\n",
              "      <td>2018</td>\n",
              "      <td>3</td>\n",
              "      <td>3.906133</td>\n",
              "      <td>4471.08</td>\n",
              "      <td>3.59</td>\n",
              "      <td>24.01</td>\n",
              "      <td>0.10</td>\n",
              "      <td>NaN</td>\n",
              "      <td>NaN</td>\n",
              "      <td>NaN</td>\n",
              "      <td>NaN</td>\n",
              "      <td>NaN</td>\n",
              "    </tr>\n",
              "    <tr>\n",
              "      <th>3</th>\n",
              "      <td>AGUACATE</td>\n",
              "      <td>2018</td>\n",
              "      <td>4</td>\n",
              "      <td>3.781069</td>\n",
              "      <td>4705.31</td>\n",
              "      <td>3.48</td>\n",
              "      <td>24.43</td>\n",
              "      <td>0.10</td>\n",
              "      <td>NaN</td>\n",
              "      <td>NaN</td>\n",
              "      <td>NaN</td>\n",
              "      <td>NaN</td>\n",
              "      <td>NaN</td>\n",
              "    </tr>\n",
              "    <tr>\n",
              "      <th>4</th>\n",
              "      <td>AGUACATE</td>\n",
              "      <td>2018</td>\n",
              "      <td>5</td>\n",
              "      <td>3.591577</td>\n",
              "      <td>5185.62</td>\n",
              "      <td>3.30</td>\n",
              "      <td>26.15</td>\n",
              "      <td>0.11</td>\n",
              "      <td>NaN</td>\n",
              "      <td>NaN</td>\n",
              "      <td>NaN</td>\n",
              "      <td>NaN</td>\n",
              "      <td>NaN</td>\n",
              "    </tr>\n",
              "    <tr>\n",
              "      <th>...</th>\n",
              "      <td>...</td>\n",
              "      <td>...</td>\n",
              "      <td>...</td>\n",
              "      <td>...</td>\n",
              "      <td>...</td>\n",
              "      <td>...</td>\n",
              "      <td>...</td>\n",
              "      <td>...</td>\n",
              "      <td>...</td>\n",
              "      <td>...</td>\n",
              "      <td>...</td>\n",
              "      <td>...</td>\n",
              "      <td>...</td>\n",
              "    </tr>\n",
              "    <tr>\n",
              "      <th>25768</th>\n",
              "      <td>PERA</td>\n",
              "      <td>2020</td>\n",
              "      <td>7</td>\n",
              "      <td>NaN</td>\n",
              "      <td>10791.59</td>\n",
              "      <td>1.93</td>\n",
              "      <td>NaN</td>\n",
              "      <td>0.24</td>\n",
              "      <td>NaN</td>\n",
              "      <td>NaN</td>\n",
              "      <td>NaN</td>\n",
              "      <td>NaN</td>\n",
              "      <td>NaN</td>\n",
              "    </tr>\n",
              "    <tr>\n",
              "      <th>25769</th>\n",
              "      <td>PERA</td>\n",
              "      <td>2020</td>\n",
              "      <td>8</td>\n",
              "      <td>NaN</td>\n",
              "      <td>13387.91</td>\n",
              "      <td>1.83</td>\n",
              "      <td>NaN</td>\n",
              "      <td>0.30</td>\n",
              "      <td>NaN</td>\n",
              "      <td>NaN</td>\n",
              "      <td>NaN</td>\n",
              "      <td>NaN</td>\n",
              "      <td>NaN</td>\n",
              "    </tr>\n",
              "    <tr>\n",
              "      <th>25770</th>\n",
              "      <td>PERA</td>\n",
              "      <td>2020</td>\n",
              "      <td>9</td>\n",
              "      <td>NaN</td>\n",
              "      <td>20333.21</td>\n",
              "      <td>1.71</td>\n",
              "      <td>NaN</td>\n",
              "      <td>0.46</td>\n",
              "      <td>NaN</td>\n",
              "      <td>NaN</td>\n",
              "      <td>NaN</td>\n",
              "      <td>NaN</td>\n",
              "      <td>NaN</td>\n",
              "    </tr>\n",
              "    <tr>\n",
              "      <th>25771</th>\n",
              "      <td>PERA</td>\n",
              "      <td>2020</td>\n",
              "      <td>10</td>\n",
              "      <td>NaN</td>\n",
              "      <td>26084.68</td>\n",
              "      <td>1.70</td>\n",
              "      <td>NaN</td>\n",
              "      <td>0.59</td>\n",
              "      <td>NaN</td>\n",
              "      <td>NaN</td>\n",
              "      <td>NaN</td>\n",
              "      <td>NaN</td>\n",
              "      <td>NaN</td>\n",
              "    </tr>\n",
              "    <tr>\n",
              "      <th>25772</th>\n",
              "      <td>PERA</td>\n",
              "      <td>2020</td>\n",
              "      <td>11</td>\n",
              "      <td>NaN</td>\n",
              "      <td>23814.58</td>\n",
              "      <td>1.70</td>\n",
              "      <td>NaN</td>\n",
              "      <td>0.54</td>\n",
              "      <td>NaN</td>\n",
              "      <td>NaN</td>\n",
              "      <td>NaN</td>\n",
              "      <td>NaN</td>\n",
              "      <td>NaN</td>\n",
              "    </tr>\n",
              "  </tbody>\n",
              "</table>\n",
              "<p>25685 rows × 13 columns</p>\n",
              "</div>\n",
              "      <button class=\"colab-df-convert\" onclick=\"convertToInteractive('df-dce3b0f0-01aa-45ef-9eaa-7d47eec652d1')\"\n",
              "              title=\"Convert this dataframe to an interactive table.\"\n",
              "              style=\"display:none;\">\n",
              "        \n",
              "  <svg xmlns=\"http://www.w3.org/2000/svg\" height=\"24px\"viewBox=\"0 0 24 24\"\n",
              "       width=\"24px\">\n",
              "    <path d=\"M0 0h24v24H0V0z\" fill=\"none\"/>\n",
              "    <path d=\"M18.56 5.44l.94 2.06.94-2.06 2.06-.94-2.06-.94-.94-2.06-.94 2.06-2.06.94zm-11 1L8.5 8.5l.94-2.06 2.06-.94-2.06-.94L8.5 2.5l-.94 2.06-2.06.94zm10 10l.94 2.06.94-2.06 2.06-.94-2.06-.94-.94-2.06-.94 2.06-2.06.94z\"/><path d=\"M17.41 7.96l-1.37-1.37c-.4-.4-.92-.59-1.43-.59-.52 0-1.04.2-1.43.59L10.3 9.45l-7.72 7.72c-.78.78-.78 2.05 0 2.83L4 21.41c.39.39.9.59 1.41.59.51 0 1.02-.2 1.41-.59l7.78-7.78 2.81-2.81c.8-.78.8-2.07 0-2.86zM5.41 20L4 18.59l7.72-7.72 1.47 1.35L5.41 20z\"/>\n",
              "  </svg>\n",
              "      </button>\n",
              "      \n",
              "  <style>\n",
              "    .colab-df-container {\n",
              "      display:flex;\n",
              "      flex-wrap:wrap;\n",
              "      gap: 12px;\n",
              "    }\n",
              "\n",
              "    .colab-df-convert {\n",
              "      background-color: #E8F0FE;\n",
              "      border: none;\n",
              "      border-radius: 50%;\n",
              "      cursor: pointer;\n",
              "      display: none;\n",
              "      fill: #1967D2;\n",
              "      height: 32px;\n",
              "      padding: 0 0 0 0;\n",
              "      width: 32px;\n",
              "    }\n",
              "\n",
              "    .colab-df-convert:hover {\n",
              "      background-color: #E2EBFA;\n",
              "      box-shadow: 0px 1px 2px rgba(60, 64, 67, 0.3), 0px 1px 3px 1px rgba(60, 64, 67, 0.15);\n",
              "      fill: #174EA6;\n",
              "    }\n",
              "\n",
              "    [theme=dark] .colab-df-convert {\n",
              "      background-color: #3B4455;\n",
              "      fill: #D2E3FC;\n",
              "    }\n",
              "\n",
              "    [theme=dark] .colab-df-convert:hover {\n",
              "      background-color: #434B5C;\n",
              "      box-shadow: 0px 1px 3px 1px rgba(0, 0, 0, 0.15);\n",
              "      filter: drop-shadow(0px 1px 2px rgba(0, 0, 0, 0.3));\n",
              "      fill: #FFFFFF;\n",
              "    }\n",
              "  </style>\n",
              "\n",
              "      <script>\n",
              "        const buttonEl =\n",
              "          document.querySelector('#df-dce3b0f0-01aa-45ef-9eaa-7d47eec652d1 button.colab-df-convert');\n",
              "        buttonEl.style.display =\n",
              "          google.colab.kernel.accessAllowed ? 'block' : 'none';\n",
              "\n",
              "        async function convertToInteractive(key) {\n",
              "          const element = document.querySelector('#df-dce3b0f0-01aa-45ef-9eaa-7d47eec652d1');\n",
              "          const dataTable =\n",
              "            await google.colab.kernel.invokeFunction('convertToInteractive',\n",
              "                                                     [key], {});\n",
              "          if (!dataTable) return;\n",
              "\n",
              "          const docLinkHtml = 'Like what you see? Visit the ' +\n",
              "            '<a target=\"_blank\" href=https://colab.research.google.com/notebooks/data_table.ipynb>data table notebook</a>'\n",
              "            + ' to learn more about interactive tables.';\n",
              "          element.innerHTML = '';\n",
              "          dataTable['output_type'] = 'display_data';\n",
              "          await google.colab.output.renderOutput(dataTable, element);\n",
              "          const docLink = document.createElement('div');\n",
              "          docLink.innerHTML = docLinkHtml;\n",
              "          element.appendChild(docLink);\n",
              "        }\n",
              "      </script>\n",
              "    </div>\n",
              "  </div>\n",
              "  "
            ]
          },
          "metadata": {},
          "execution_count": 133
        }
      ]
    },
    {
      "cell_type": "code",
      "source": [
        "df.dropna(axis=0, subset=['P_origen'], inplace=True)"
      ],
      "metadata": {
        "id": "s1R16o6q7mso"
      },
      "execution_count": null,
      "outputs": []
    },
    {
      "cell_type": "code",
      "source": [
        "df = df.fillna(0)\n",
        "df"
      ],
      "metadata": {
        "colab": {
          "base_uri": "https://localhost:8080/",
          "height": 424
        },
        "id": "iwXK4TqfeF8w",
        "outputId": "ac6bf0dc-bf51-4f0f-b05f-1d4c99a58bab"
      },
      "execution_count": null,
      "outputs": [
        {
          "output_type": "execute_result",
          "data": {
            "text/plain": [
              "       Product  Year  Month  Price Mean  Volume kg  Avg Weight  \\\n",
              "35         AJO  2018      1     1.75271    2572.64        4.17   \n",
              "36         AJO  2018      1     1.75271    2572.64        4.17   \n",
              "37         AJO  2018      1     1.75271    2572.64        4.17   \n",
              "38         AJO  2018      1     1.75271    2572.64        4.17   \n",
              "39         AJO  2018      1     1.75271    2572.64        4.17   \n",
              "...        ...   ...    ...         ...        ...         ...   \n",
              "25822  PATATAS  2020     12     0.00000       0.00        0.00   \n",
              "25823  PATATAS  2020     12     0.00000       0.00        0.00   \n",
              "25824  PATATAS  2020     12     0.00000       0.00        0.00   \n",
              "25825  PATATAS  2020     12     0.00000       0.00        0.00   \n",
              "25826  PATATAS  2020     12     0.00000       0.00        0.00   \n",
              "\n",
              "       Penetración (%)  Per Capita Consum  P_origen Value  Cases  Deaths  \\\n",
              "35               34.75               0.06   Austria   651    0.0     0.0   \n",
              "36               34.75               0.06   Belgium  2215    0.0     0.0   \n",
              "37               34.75               0.06  Bulgaria   230    0.0     0.0   \n",
              "38               34.75               0.06   Croatia   171    0.0     0.0   \n",
              "39               34.75               0.06    Cyprus     0    0.0     0.0   \n",
              "...                ...                ...       ...   ...    ...     ...   \n",
              "25822             0.00               0.00  Slovenia     0    0.0     0.0   \n",
              "25823             0.00               0.00     Spain     0    0.0     0.0   \n",
              "25824             0.00               0.00     Spain     0    0.0     0.0   \n",
              "25825             0.00               0.00    Sweden     0    0.0     0.0   \n",
              "25826             0.00               0.00    Sweden     0    0.0     0.0   \n",
              "\n",
              "       Cases + Deaths  \n",
              "35                0.0  \n",
              "36                0.0  \n",
              "37                0.0  \n",
              "38                0.0  \n",
              "39                0.0  \n",
              "...               ...  \n",
              "25822             0.0  \n",
              "25823             0.0  \n",
              "25824             0.0  \n",
              "25825             0.0  \n",
              "25826             0.0  \n",
              "\n",
              "[25569 rows x 13 columns]"
            ],
            "text/html": [
              "\n",
              "  <div id=\"df-fa7eb9e4-d2e4-49f1-8a88-b97ac7ddfc53\">\n",
              "    <div class=\"colab-df-container\">\n",
              "      <div>\n",
              "<style scoped>\n",
              "    .dataframe tbody tr th:only-of-type {\n",
              "        vertical-align: middle;\n",
              "    }\n",
              "\n",
              "    .dataframe tbody tr th {\n",
              "        vertical-align: top;\n",
              "    }\n",
              "\n",
              "    .dataframe thead th {\n",
              "        text-align: right;\n",
              "    }\n",
              "</style>\n",
              "<table border=\"1\" class=\"dataframe\">\n",
              "  <thead>\n",
              "    <tr style=\"text-align: right;\">\n",
              "      <th></th>\n",
              "      <th>Product</th>\n",
              "      <th>Year</th>\n",
              "      <th>Month</th>\n",
              "      <th>Price Mean</th>\n",
              "      <th>Volume kg</th>\n",
              "      <th>Avg Weight</th>\n",
              "      <th>Penetración (%)</th>\n",
              "      <th>Per Capita Consum</th>\n",
              "      <th>P_origen</th>\n",
              "      <th>Value</th>\n",
              "      <th>Cases</th>\n",
              "      <th>Deaths</th>\n",
              "      <th>Cases + Deaths</th>\n",
              "    </tr>\n",
              "  </thead>\n",
              "  <tbody>\n",
              "    <tr>\n",
              "      <th>35</th>\n",
              "      <td>AJO</td>\n",
              "      <td>2018</td>\n",
              "      <td>1</td>\n",
              "      <td>1.75271</td>\n",
              "      <td>2572.64</td>\n",
              "      <td>4.17</td>\n",
              "      <td>34.75</td>\n",
              "      <td>0.06</td>\n",
              "      <td>Austria</td>\n",
              "      <td>651</td>\n",
              "      <td>0.0</td>\n",
              "      <td>0.0</td>\n",
              "      <td>0.0</td>\n",
              "    </tr>\n",
              "    <tr>\n",
              "      <th>36</th>\n",
              "      <td>AJO</td>\n",
              "      <td>2018</td>\n",
              "      <td>1</td>\n",
              "      <td>1.75271</td>\n",
              "      <td>2572.64</td>\n",
              "      <td>4.17</td>\n",
              "      <td>34.75</td>\n",
              "      <td>0.06</td>\n",
              "      <td>Belgium</td>\n",
              "      <td>2215</td>\n",
              "      <td>0.0</td>\n",
              "      <td>0.0</td>\n",
              "      <td>0.0</td>\n",
              "    </tr>\n",
              "    <tr>\n",
              "      <th>37</th>\n",
              "      <td>AJO</td>\n",
              "      <td>2018</td>\n",
              "      <td>1</td>\n",
              "      <td>1.75271</td>\n",
              "      <td>2572.64</td>\n",
              "      <td>4.17</td>\n",
              "      <td>34.75</td>\n",
              "      <td>0.06</td>\n",
              "      <td>Bulgaria</td>\n",
              "      <td>230</td>\n",
              "      <td>0.0</td>\n",
              "      <td>0.0</td>\n",
              "      <td>0.0</td>\n",
              "    </tr>\n",
              "    <tr>\n",
              "      <th>38</th>\n",
              "      <td>AJO</td>\n",
              "      <td>2018</td>\n",
              "      <td>1</td>\n",
              "      <td>1.75271</td>\n",
              "      <td>2572.64</td>\n",
              "      <td>4.17</td>\n",
              "      <td>34.75</td>\n",
              "      <td>0.06</td>\n",
              "      <td>Croatia</td>\n",
              "      <td>171</td>\n",
              "      <td>0.0</td>\n",
              "      <td>0.0</td>\n",
              "      <td>0.0</td>\n",
              "    </tr>\n",
              "    <tr>\n",
              "      <th>39</th>\n",
              "      <td>AJO</td>\n",
              "      <td>2018</td>\n",
              "      <td>1</td>\n",
              "      <td>1.75271</td>\n",
              "      <td>2572.64</td>\n",
              "      <td>4.17</td>\n",
              "      <td>34.75</td>\n",
              "      <td>0.06</td>\n",
              "      <td>Cyprus</td>\n",
              "      <td>0</td>\n",
              "      <td>0.0</td>\n",
              "      <td>0.0</td>\n",
              "      <td>0.0</td>\n",
              "    </tr>\n",
              "    <tr>\n",
              "      <th>...</th>\n",
              "      <td>...</td>\n",
              "      <td>...</td>\n",
              "      <td>...</td>\n",
              "      <td>...</td>\n",
              "      <td>...</td>\n",
              "      <td>...</td>\n",
              "      <td>...</td>\n",
              "      <td>...</td>\n",
              "      <td>...</td>\n",
              "      <td>...</td>\n",
              "      <td>...</td>\n",
              "      <td>...</td>\n",
              "      <td>...</td>\n",
              "    </tr>\n",
              "    <tr>\n",
              "      <th>25822</th>\n",
              "      <td>PATATAS</td>\n",
              "      <td>2020</td>\n",
              "      <td>12</td>\n",
              "      <td>0.00000</td>\n",
              "      <td>0.00</td>\n",
              "      <td>0.00</td>\n",
              "      <td>0.00</td>\n",
              "      <td>0.00</td>\n",
              "      <td>Slovenia</td>\n",
              "      <td>0</td>\n",
              "      <td>0.0</td>\n",
              "      <td>0.0</td>\n",
              "      <td>0.0</td>\n",
              "    </tr>\n",
              "    <tr>\n",
              "      <th>25823</th>\n",
              "      <td>PATATAS</td>\n",
              "      <td>2020</td>\n",
              "      <td>12</td>\n",
              "      <td>0.00000</td>\n",
              "      <td>0.00</td>\n",
              "      <td>0.00</td>\n",
              "      <td>0.00</td>\n",
              "      <td>0.00</td>\n",
              "      <td>Spain</td>\n",
              "      <td>0</td>\n",
              "      <td>0.0</td>\n",
              "      <td>0.0</td>\n",
              "      <td>0.0</td>\n",
              "    </tr>\n",
              "    <tr>\n",
              "      <th>25824</th>\n",
              "      <td>PATATAS</td>\n",
              "      <td>2020</td>\n",
              "      <td>12</td>\n",
              "      <td>0.00000</td>\n",
              "      <td>0.00</td>\n",
              "      <td>0.00</td>\n",
              "      <td>0.00</td>\n",
              "      <td>0.00</td>\n",
              "      <td>Spain</td>\n",
              "      <td>0</td>\n",
              "      <td>0.0</td>\n",
              "      <td>0.0</td>\n",
              "      <td>0.0</td>\n",
              "    </tr>\n",
              "    <tr>\n",
              "      <th>25825</th>\n",
              "      <td>PATATAS</td>\n",
              "      <td>2020</td>\n",
              "      <td>12</td>\n",
              "      <td>0.00000</td>\n",
              "      <td>0.00</td>\n",
              "      <td>0.00</td>\n",
              "      <td>0.00</td>\n",
              "      <td>0.00</td>\n",
              "      <td>Sweden</td>\n",
              "      <td>0</td>\n",
              "      <td>0.0</td>\n",
              "      <td>0.0</td>\n",
              "      <td>0.0</td>\n",
              "    </tr>\n",
              "    <tr>\n",
              "      <th>25826</th>\n",
              "      <td>PATATAS</td>\n",
              "      <td>2020</td>\n",
              "      <td>12</td>\n",
              "      <td>0.00000</td>\n",
              "      <td>0.00</td>\n",
              "      <td>0.00</td>\n",
              "      <td>0.00</td>\n",
              "      <td>0.00</td>\n",
              "      <td>Sweden</td>\n",
              "      <td>0</td>\n",
              "      <td>0.0</td>\n",
              "      <td>0.0</td>\n",
              "      <td>0.0</td>\n",
              "    </tr>\n",
              "  </tbody>\n",
              "</table>\n",
              "<p>25569 rows × 13 columns</p>\n",
              "</div>\n",
              "      <button class=\"colab-df-convert\" onclick=\"convertToInteractive('df-fa7eb9e4-d2e4-49f1-8a88-b97ac7ddfc53')\"\n",
              "              title=\"Convert this dataframe to an interactive table.\"\n",
              "              style=\"display:none;\">\n",
              "        \n",
              "  <svg xmlns=\"http://www.w3.org/2000/svg\" height=\"24px\"viewBox=\"0 0 24 24\"\n",
              "       width=\"24px\">\n",
              "    <path d=\"M0 0h24v24H0V0z\" fill=\"none\"/>\n",
              "    <path d=\"M18.56 5.44l.94 2.06.94-2.06 2.06-.94-2.06-.94-.94-2.06-.94 2.06-2.06.94zm-11 1L8.5 8.5l.94-2.06 2.06-.94-2.06-.94L8.5 2.5l-.94 2.06-2.06.94zm10 10l.94 2.06.94-2.06 2.06-.94-2.06-.94-.94-2.06-.94 2.06-2.06.94z\"/><path d=\"M17.41 7.96l-1.37-1.37c-.4-.4-.92-.59-1.43-.59-.52 0-1.04.2-1.43.59L10.3 9.45l-7.72 7.72c-.78.78-.78 2.05 0 2.83L4 21.41c.39.39.9.59 1.41.59.51 0 1.02-.2 1.41-.59l7.78-7.78 2.81-2.81c.8-.78.8-2.07 0-2.86zM5.41 20L4 18.59l7.72-7.72 1.47 1.35L5.41 20z\"/>\n",
              "  </svg>\n",
              "      </button>\n",
              "      \n",
              "  <style>\n",
              "    .colab-df-container {\n",
              "      display:flex;\n",
              "      flex-wrap:wrap;\n",
              "      gap: 12px;\n",
              "    }\n",
              "\n",
              "    .colab-df-convert {\n",
              "      background-color: #E8F0FE;\n",
              "      border: none;\n",
              "      border-radius: 50%;\n",
              "      cursor: pointer;\n",
              "      display: none;\n",
              "      fill: #1967D2;\n",
              "      height: 32px;\n",
              "      padding: 0 0 0 0;\n",
              "      width: 32px;\n",
              "    }\n",
              "\n",
              "    .colab-df-convert:hover {\n",
              "      background-color: #E2EBFA;\n",
              "      box-shadow: 0px 1px 2px rgba(60, 64, 67, 0.3), 0px 1px 3px 1px rgba(60, 64, 67, 0.15);\n",
              "      fill: #174EA6;\n",
              "    }\n",
              "\n",
              "    [theme=dark] .colab-df-convert {\n",
              "      background-color: #3B4455;\n",
              "      fill: #D2E3FC;\n",
              "    }\n",
              "\n",
              "    [theme=dark] .colab-df-convert:hover {\n",
              "      background-color: #434B5C;\n",
              "      box-shadow: 0px 1px 3px 1px rgba(0, 0, 0, 0.15);\n",
              "      filter: drop-shadow(0px 1px 2px rgba(0, 0, 0, 0.3));\n",
              "      fill: #FFFFFF;\n",
              "    }\n",
              "  </style>\n",
              "\n",
              "      <script>\n",
              "        const buttonEl =\n",
              "          document.querySelector('#df-fa7eb9e4-d2e4-49f1-8a88-b97ac7ddfc53 button.colab-df-convert');\n",
              "        buttonEl.style.display =\n",
              "          google.colab.kernel.accessAllowed ? 'block' : 'none';\n",
              "\n",
              "        async function convertToInteractive(key) {\n",
              "          const element = document.querySelector('#df-fa7eb9e4-d2e4-49f1-8a88-b97ac7ddfc53');\n",
              "          const dataTable =\n",
              "            await google.colab.kernel.invokeFunction('convertToInteractive',\n",
              "                                                     [key], {});\n",
              "          if (!dataTable) return;\n",
              "\n",
              "          const docLinkHtml = 'Like what you see? Visit the ' +\n",
              "            '<a target=\"_blank\" href=https://colab.research.google.com/notebooks/data_table.ipynb>data table notebook</a>'\n",
              "            + ' to learn more about interactive tables.';\n",
              "          element.innerHTML = '';\n",
              "          dataTable['output_type'] = 'display_data';\n",
              "          await google.colab.output.renderOutput(dataTable, element);\n",
              "          const docLink = document.createElement('div');\n",
              "          docLink.innerHTML = docLinkHtml;\n",
              "          element.appendChild(docLink);\n",
              "        }\n",
              "      </script>\n",
              "    </div>\n",
              "  </div>\n",
              "  "
            ]
          },
          "metadata": {},
          "execution_count": 135
        }
      ]
    },
    {
      "cell_type": "code",
      "source": [
        "df.info()"
      ],
      "metadata": {
        "colab": {
          "base_uri": "https://localhost:8080/"
        },
        "id": "Oa-uk1yowthd",
        "outputId": "87f5f979-9464-41f5-e0e9-2f905125294e"
      },
      "execution_count": null,
      "outputs": [
        {
          "output_type": "stream",
          "name": "stdout",
          "text": [
            "<class 'pandas.core.frame.DataFrame'>\n",
            "Int64Index: 25569 entries, 35 to 25826\n",
            "Data columns (total 13 columns):\n",
            " #   Column             Non-Null Count  Dtype  \n",
            "---  ------             --------------  -----  \n",
            " 0   Product            25569 non-null  object \n",
            " 1   Year               25569 non-null  int64  \n",
            " 2   Month              25569 non-null  int64  \n",
            " 3   Price Mean         25569 non-null  float64\n",
            " 4   Volume kg          25569 non-null  float64\n",
            " 5   Avg Weight         25569 non-null  float64\n",
            " 6   Penetración (%)    25569 non-null  float64\n",
            " 7   Per Capita Consum  25569 non-null  float64\n",
            " 8   P_origen           25569 non-null  object \n",
            " 9   Value              25569 non-null  object \n",
            " 10  Cases              25569 non-null  float64\n",
            " 11  Deaths             25569 non-null  float64\n",
            " 12  Cases + Deaths     25569 non-null  float64\n",
            "dtypes: float64(8), int64(2), object(3)\n",
            "memory usage: 2.7+ MB\n"
          ]
        }
      ]
    },
    {
      "cell_type": "markdown",
      "source": [
        "# Export"
      ],
      "metadata": {
        "id": "Bpln7l1IqHFg"
      }
    },
    {
      "cell_type": "code",
      "source": [
        "df.to_csv(\"dataset_final.csv\", index=False)"
      ],
      "metadata": {
        "id": "6IAgVsJmqUbh"
      },
      "execution_count": null,
      "outputs": []
    }
  ],
  "metadata": {
    "colab": {
      "provenance": [],
      "collapsed_sections": [
        "sRqQOex69-mY",
        "z1oqhZjEEP0m",
        "erEn03UVq3P_",
        "OJ_FfPtzriV-"
      ],
      "include_colab_link": true
    },
    "kernelspec": {
      "display_name": "Python 3",
      "name": "python3"
    },
    "language_info": {
      "name": "python"
    }
  },
  "nbformat": 4,
  "nbformat_minor": 0
}